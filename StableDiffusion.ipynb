{
 "cells": [
  {
   "cell_type": "markdown",
   "id": "dff7e2b5-eea3-41f4-8179-23502b790781",
   "metadata": {},
   "source": [
    "# AUTOMATIC1111/stable-diffusion-webui\n",
    "\n",
    "## Clone and Setup"
   ]
  },
  {
   "cell_type": "code",
   "execution_count": 17,
   "id": "1c2ea268-dd4a-4638-89c7-b99920f3e135",
   "metadata": {
    "execution": {
     "iopub.execute_input": "2023-11-22T15:34:52.317626Z",
     "iopub.status.busy": "2023-11-22T15:34:52.317161Z",
     "iopub.status.idle": "2023-11-22T15:34:52.323590Z",
     "shell.execute_reply": "2023-11-22T15:34:52.322450Z",
     "shell.execute_reply.started": "2023-11-22T15:34:52.317591Z"
    }
   },
   "outputs": [],
   "source": [
    "SD_ROOT = \"/workspace/stable-diffusion-webui\"\n",
    "SD_MODEL_PATH = f\"{SD_ROOT}/models/Stable-diffusion\"\n",
    "SD_VAE_PATH = f\"{SD_ROOT}/models/VAE\"\n",
    "SD_LORA_PATH = f\"{SD_ROOT}/models/Lora\"\n",
    "SD_PERSISTENT_MODELS = \"/storage/sd/models\"\n",
    "\n",
    "GRADIO_USER = set_user\n",
    "GRADIO_PASS = set_password"
   ]
  },
  {
   "cell_type": "code",
   "execution_count": 18,
   "id": "53b76c9e-4429-4770-b4a3-86f8fda56a5d",
   "metadata": {
    "execution": {
     "iopub.execute_input": "2023-11-22T15:34:53.433728Z",
     "iopub.status.busy": "2023-11-22T15:34:53.432616Z",
     "iopub.status.idle": "2023-11-22T15:34:53.959790Z",
     "shell.execute_reply": "2023-11-22T15:34:53.958227Z",
     "shell.execute_reply.started": "2023-11-22T15:34:53.433700Z"
    }
   },
   "outputs": [
    {
     "name": "stdout",
     "output_type": "stream",
     "text": [
      "useradd: user 'user' already exists\n"
     ]
    }
   ],
   "source": [
    "!sudo useradd user --uid 42"
   ]
  },
  {
   "cell_type": "code",
   "execution_count": 19,
   "id": "526b4934-cfb8-42b1-a750-eb77c844c6a2",
   "metadata": {
    "execution": {
     "iopub.execute_input": "2023-11-22T15:34:55.668434Z",
     "iopub.status.busy": "2023-11-22T15:34:55.667923Z",
     "iopub.status.idle": "2023-11-22T15:34:56.209120Z",
     "shell.execute_reply": "2023-11-22T15:34:56.207674Z",
     "shell.execute_reply.started": "2023-11-22T15:34:55.668390Z"
    }
   },
   "outputs": [],
   "source": [
    "!rm -rf {SD_ROOT} && mkdir -p {SD_ROOT} && chown user:user -R {SD_ROOT}"
   ]
  },
  {
   "cell_type": "code",
   "execution_count": 20,
   "id": "50f6996b-ce67-4fcf-974a-58866ad7dce0",
   "metadata": {
    "execution": {
     "iopub.execute_input": "2023-11-22T15:34:58.267520Z",
     "iopub.status.busy": "2023-11-22T15:34:58.267030Z",
     "iopub.status.idle": "2023-11-22T15:35:01.146362Z",
     "shell.execute_reply": "2023-11-22T15:35:01.144757Z",
     "shell.execute_reply.started": "2023-11-22T15:34:58.267479Z"
    }
   },
   "outputs": [
    {
     "name": "stdout",
     "output_type": "stream",
     "text": [
      "Cloning into '/workspace/stable-diffusion-webui'...\n",
      "remote: Enumerating objects: 28407, done.\u001b[K\n",
      "remote: Counting objects: 100% (36/36), done.\u001b[K\n",
      "remote: Compressing objects: 100% (25/25), done.\u001b[K\n",
      "remote: Total 28407 (delta 15), reused 23 (delta 11), pack-reused 28371\u001b[K\n",
      "Receiving objects: 100% (28407/28407), 32.64 MiB | 27.85 MiB/s, done.\n",
      "Resolving deltas: 100% (19922/19922), done.\n"
     ]
    }
   ],
   "source": [
    "\n",
    "!sudo -u user git clone https://github.com/AUTOMATIC1111/stable-diffusion-webui.git {SD_ROOT}"
   ]
  },
  {
   "cell_type": "code",
   "execution_count": 24,
   "id": "9aa26d03-e0ad-48f9-bf54-f3c1cadb7ab2",
   "metadata": {
    "execution": {
     "iopub.execute_input": "2023-11-22T15:46:46.676602Z",
     "iopub.status.busy": "2023-11-22T15:46:46.676024Z",
     "iopub.status.idle": "2023-11-22T15:46:46.687891Z",
     "shell.execute_reply": "2023-11-22T15:46:46.686030Z",
     "shell.execute_reply.started": "2023-11-22T15:46:46.676557Z"
    }
   },
   "outputs": [],
   "source": [
    "import requests\n",
    "import shutil\n",
    "from pathlib import Path\n",
    "import glob\n",
    "\n",
    "assert Path(SD_MODEL_PATH).exists()\n",
    "Path(SD_LORA_PATH).mkdir(parents=True, exist_ok=True)\n",
    "\n",
    "for file in glob.glob(f'{SD_PERSISTENT_MODELS}/*'):\n",
    "    print(file)\n",
    "    shutil.copy(file, SD_MODEL_PATH)\n",
    "\n",
    "\n",
    "def download_file(url: str, dest: str, force: bool = False) -> None:\n",
    "    if Path(dest).exists() and not force:\n",
    "        return\n",
    "    with requests.get(url, stream=True) as r:\n",
    "        with open(dest, 'wb') as f:\n",
    "            shutil.copyfileobj(r.raw, f)"
   ]
  },
  {
   "cell_type": "code",
   "execution_count": 26,
   "id": "b920c4ac-bf82-4683-b365-19a6b8e727a1",
   "metadata": {
    "execution": {
     "iopub.execute_input": "2023-11-22T16:07:58.492482Z",
     "iopub.status.busy": "2023-11-22T16:07:58.491987Z",
     "iopub.status.idle": "2023-11-22T16:07:58.505147Z",
     "shell.execute_reply": "2023-11-22T16:07:58.503114Z",
     "shell.execute_reply.started": "2023-11-22T16:07:58.492446Z"
    }
   },
   "outputs": [
    {
     "name": "stdout",
     "output_type": "stream",
     "text": [
      "Downloading Juggernaut\n",
      "Downloading Amanda Sage Lora\n",
      "Downloading DetailTweaker Lora\n",
      "Downloading Base Refiner\n",
      "Downloading Base VAE\n",
      "Downloading Architecture Real Mix\n",
      "Done!\n"
     ]
    }
   ],
   "source": [
    "# download_file(\n",
    "#     url=\"https://huggingface.co/runwayml/stable-diffusion-v1-5/resolve/main/v1-5-pruned-emaonly.safetensors\",\n",
    "#     dest=f\"{SD_MODEL_PATH}/v1-5-pruned-emaonly.safetensors\"\n",
    "# )\n",
    "print(\"Downloading Juggernaut\")\n",
    "download_file(\n",
    "    url=\"https://civitai.com/api/download/models/198530?type=Model&format=SafeTensor&size=full&fp=fp16\",\n",
    "    dest=f\"{SD_MODEL_PATH}/JuggernautXL.safetensors\",\n",
    ")\n",
    "\n",
    "print(\"Downloading Amanda Sage Lora\")\n",
    "download_file(\n",
    "    url=\"https://civitai.com/api/download/models/210626?type=Model&format=SafeTensor\",\n",
    "    dest=f\"{SD_LORA_PATH}/AmandaSage.safetensors\"\n",
    ")\n",
    "\n",
    "print(\"Downloading DetailTweaker Lora\")\n",
    "download_file(\n",
    "    url=\"https://civitai.com/api/download/models/135867?type=Model&format=SafeTensor\",\n",
    "    dest=f\"{SD_LORA_PATH}/DetailTweakerXL.safetensors\"\n",
    ")\n",
    "\n",
    "print(\"Downloading Base Refiner\")\n",
    "download_file(\n",
    "    url=\"https://huggingface.co/stabilityai/stable-diffusion-xl-refiner-1.0/resolve/main/sd_xl_refiner_1.0.safetensors?download=true\",\n",
    "    dest=f\"{SD_MODEL_PATH}/sd_xl_refiner_1.0.safetensors\"\n",
    ")\n",
    "\n",
    "print(\"Downloading Base VAE\")\n",
    "download_file(\n",
    "    url=\"https://huggingface.co/stabilityai/sdxl-vae/resolve/main/sdxl_vae.safetensors?download=true\",\n",
    "    dest=f\"{SD_VAE_PATH}/sdxl_vae.safetensors\"\n",
    ")\n",
    "\n",
    "print(\"Downloading Architecture Real Mix\")\n",
    "download_file(\n",
    "    url=\"https://civitai.com/api/download/models/111612\",\n",
    "    dest=f\"{SD_MODEL_PATH}/ArchitectureRealMix.safetensors\"\n",
    ")\n",
    "print(\"Done!\")"
   ]
  },
  {
   "cell_type": "code",
   "execution_count": 28,
   "id": "9f34ec26-5597-4bde-b29d-5a057c551bb2",
   "metadata": {
    "execution": {
     "iopub.execute_input": "2023-11-22T16:47:47.324938Z",
     "iopub.status.busy": "2023-11-22T16:47:47.324435Z",
     "iopub.status.idle": "2023-11-22T16:55:26.230735Z",
     "shell.execute_reply": "2023-11-22T16:55:26.229673Z",
     "shell.execute_reply.started": "2023-11-22T16:47:47.324900Z"
    }
   },
   "outputs": [
    {
     "name": "stdout",
     "output_type": "stream",
     "text": [
      "\n",
      "################################################################\n",
      "\u001b[1m\u001b[32mInstall script for stable-diffusion + Web UI\n",
      "\u001b[1m\u001b[34mTested on Debian 11 (Bullseye)\u001b[0m\n",
      "################################################################\n",
      "\n",
      "################################################################\n",
      "Running on \u001b[1m\u001b[32muser\u001b[0m user\n",
      "################################################################\n",
      "\n",
      "################################################################\n",
      "Repo already cloned, using it as install directory\n",
      "################################################################\n",
      "\n",
      "################################################################\n",
      "Create and activate python venv\n",
      "################################################################\n",
      "\n",
      "################################################################\n",
      "Launching launch.py...\n",
      "################################################################\n",
      "\u001b[1m\u001b[31mCannot locate TCMalloc (improves CPU memory usage)\u001b[0m\n",
      "Python 3.9.16 (main, Dec  7 2022, 01:11:51) \n",
      "[GCC 9.4.0]\n",
      "Version: v1.6.0-2-g4afaaf8a\n",
      "Commit hash: 4afaaf8a020c1df457bcf7250cb1c7f609699fa7\n",
      "Launching Web UI with arguments: --xformers --share --gradio-auth hsbi:ostrau\n",
      "WARNING:matplotlib:Matplotlib created a temporary cache directory at /tmp/matplotlib-5dpccp_5 because the default path (/home/user/.config/matplotlib) is not a writable directory; it is highly recommended to set the MPLCONFIGDIR environment variable to a writable directory, in particular to speed up the import of Matplotlib and to better support multiprocessing.\n",
      "Loading weights [1fe6c7ec54] from /workspace/stable-diffusion-webui/models/Stable-diffusion/JuggernautXL.safetensors\n",
      "Running on local URL:  http://127.0.0.1:7860\n",
      "Creating model from config: /workspace/stable-diffusion-webui/repositories/generative-models/configs/inference/sd_xl_base.yaml\n",
      "Running on public URL: https://6abf2811e19fb87bcb.gradio.live\n",
      "\n",
      "This share link expires in 72 hours. For free permanent hosting and GPU upgrades, run `gradio deploy` from Terminal to deploy to Spaces (https://huggingface.co/spaces)\n",
      "Startup time: 27.5s (prepare environment: 6.4s, import torch: 7.2s, import gradio: 2.0s, setup paths: 3.4s, initialize shared: 0.6s, other imports: 1.6s, setup codeformer: 0.2s, load scripts: 1.2s, initialize extra networks: 0.1s, create ui: 2.6s, gradio launch: 2.2s).\n",
      "Loading VAE weights specified in settings: /workspace/stable-diffusion-webui/models/VAE/sdxl_vae.safetensors\n",
      "Applying attention optimization: xformers... done.\n",
      "Model loaded in 37.8s (load weights from disk: 5.0s, create model: 1.7s, apply weights to model: 28.7s, apply half(): 0.2s, load VAE: 1.4s, move model to device: 0.1s, load textual inversion embeddings: 0.1s, calculate empty prompt: 0.5s).\n",
      "Restoring base VAE\n",
      "Applying attention optimization: xformers... done.\n",
      "VAE weights loaded.\n",
      "Loading VAE weights specified in settings: /workspace/stable-diffusion-webui/models/VAE/sdxl_vae.safetensors\n",
      "Applying attention optimization: xformers... done.\n",
      "VAE weights loaded.\n",
      "\n",
      "  0%|                                                    | 0/40 [00:00<?, ?it/s]\n",
      "  2%|█                                           | 1/40 [00:02<01:33,  2.39s/it]\u001b[A\n",
      "  5%|██▏                                         | 2/40 [00:04<01:23,  2.18s/it]\u001b[A\n",
      "  8%|███▎                                        | 3/40 [00:06<01:18,  2.12s/it]\u001b[A\n",
      " 10%|████▍                                       | 4/40 [00:08<01:14,  2.08s/it]\u001b[A\n",
      " 12%|█████▌                                      | 5/40 [00:10<01:12,  2.07s/it]\u001b[A\n",
      " 15%|██████▌                                     | 6/40 [00:12<01:10,  2.06s/it]\u001b[A\n",
      " 18%|███████▋                                    | 7/40 [00:14<01:07,  2.06s/it]\u001b[A\n",
      " 20%|████████▊                                   | 8/40 [00:16<01:05,  2.05s/it]\u001b[A\n",
      " 22%|█████████▉                                  | 9/40 [00:18<01:03,  2.05s/it]\u001b[A\n",
      " 25%|██████████▊                                | 10/40 [00:20<01:01,  2.05s/it]\u001b[A\n",
      " 28%|███████████▊                               | 11/40 [00:22<00:59,  2.05s/it]\u001b[A\n",
      " 30%|████████████▉                              | 12/40 [00:24<00:57,  2.05s/it]\u001b[A\n",
      " 32%|█████████████▉                             | 13/40 [00:26<00:55,  2.06s/it]\u001b[A\n",
      " 35%|███████████████                            | 14/40 [00:29<00:53,  2.06s/it]\u001b[A\n",
      " 38%|████████████████▏                          | 15/40 [00:31<00:51,  2.06s/it]\u001b[A\n",
      " 40%|█████████████████▏                         | 16/40 [00:33<00:49,  2.06s/it]\u001b[A\n",
      " 42%|██████████████████▎                        | 17/40 [00:35<00:47,  2.06s/it]\u001b[A\n",
      " 45%|███████████████████▎                       | 18/40 [00:37<00:45,  2.06s/it]\u001b[A\n",
      " 48%|████████████████████▍                      | 19/40 [00:39<00:43,  2.06s/it]\u001b[A\n",
      " 50%|█████████████████████▌                     | 20/40 [00:41<00:41,  2.07s/it]\u001b[A\n",
      " 52%|██████████████████████▌                    | 21/40 [00:43<00:39,  2.07s/it]\u001b[A\n",
      " 55%|███████████████████████▋                   | 22/40 [00:45<00:37,  2.08s/it]\u001b[A\n",
      " 57%|████████████████████████▋                  | 23/40 [00:47<00:35,  2.08s/it]\u001b[A\n",
      " 60%|█████████████████████████▊                 | 24/40 [00:49<00:33,  2.08s/it]\u001b[A\n",
      " 62%|██████████████████████████▉                | 25/40 [00:51<00:31,  2.09s/it]\u001b[A\n",
      " 65%|███████████████████████████▉               | 26/40 [00:53<00:29,  2.09s/it]\u001b[A\n",
      " 68%|█████████████████████████████              | 27/40 [00:56<00:27,  2.09s/it]\u001b[A\n",
      " 70%|██████████████████████████████             | 28/40 [00:58<00:25,  2.09s/it]\u001b[A\n",
      " 72%|███████████████████████████████▏           | 29/40 [01:00<00:22,  2.09s/it]\u001b[A\n",
      " 75%|████████████████████████████████▎          | 30/40 [01:02<00:20,  2.09s/it]\u001b[A\n",
      " 78%|█████████████████████████████████▎         | 31/40 [01:04<00:18,  2.09s/it]\u001b[A\n",
      " 80%|██████████████████████████████████▍        | 32/40 [01:06<00:16,  2.09s/it]\u001b[A\n",
      " 82%|███████████████████████████████████▍       | 33/40 [01:08<00:14,  2.09s/it]\u001b[A\n",
      " 85%|████████████████████████████████████▌      | 34/40 [01:10<00:12,  2.09s/it]\u001b[A\n",
      " 88%|█████████████████████████████████████▋     | 35/40 [01:12<00:10,  2.09s/it]\u001b[A\n",
      " 90%|██████████████████████████████████████▋    | 36/40 [01:14<00:08,  2.09s/it]\u001b[A\n",
      " 92%|███████████████████████████████████████▊   | 37/40 [01:16<00:06,  2.09s/it]\u001b[A\n",
      " 95%|████████████████████████████████████████▊  | 38/40 [01:19<00:04,  2.09s/it]\u001b[A\n",
      " 98%|█████████████████████████████████████████▉ | 39/40 [01:21<00:02,  2.09s/it]\u001b[A\n",
      "100%|███████████████████████████████████████████| 40/40 [01:23<00:00,  2.08s/it]\u001b[A\n",
      "  0%|                                                    | 0/12 [00:00<?, ?it/s]\n",
      "  8%|███▋                                        | 1/12 [00:05<00:59,  5.41s/it]\u001b[A\n",
      " 17%|███████▎                                    | 2/12 [00:10<00:54,  5.41s/it]\u001b[A\n",
      " 25%|███████████                                 | 3/12 [00:16<00:48,  5.39s/it]\u001b[A\n",
      " 33%|██████████████▋                             | 4/12 [00:21<00:43,  5.40s/it]\u001b[A\n",
      " 42%|██████████████████▎                         | 5/12 [00:27<00:37,  5.40s/it]\u001b[A\n",
      " 50%|██████████████████████                      | 6/12 [00:32<00:32,  5.40s/it]\u001b[A\n",
      " 58%|█████████████████████████▋                  | 7/12 [00:37<00:27,  5.41s/it]\u001b[A\n",
      " 67%|█████████████████████████████▎              | 8/12 [00:43<00:21,  5.41s/it]\u001b[A\n",
      " 75%|█████████████████████████████████           | 9/12 [00:48<00:16,  5.41s/it]\u001b[A\n",
      " 83%|███████████████████████████████████▊       | 10/12 [00:54<00:10,  5.41s/it]\u001b[A\n",
      " 92%|███████████████████████████████████████▍   | 11/12 [00:59<00:05,  5.42s/it]\u001b[A\n",
      "100%|███████████████████████████████████████████| 12/12 [01:04<00:00,  5.41s/it]\u001b[A\n",
      "==========================================================================================\n",
      "A tensor with all NaNs was produced in VAE.\n",
      "Web UI will now convert VAE into 32-bit float and retry.\n",
      "To disable this behavior, disable the 'Automatically revert VAE to 32-bit floats' setting.\n",
      "To always start with 32-bit VAE, use --no-half-vae commandline flag.\n",
      "==========================================================================================\n",
      "Restoring base VAE\n",
      "Applying attention optimization: xformers... done.\n",
      "VAE weights loaded.\n",
      "\n",
      "Total progress: 100%|███████████████████████████| 52/52 [02:40<00:00,  3.08s/it]\u001b[A\n",
      "^C\n",
      "Interrupted with signal 2 in <frame at 0x7f3d647d3a40, file '/usr/lib/python3.9/threading.py', line 316, code wait>\n",
      "\n",
      "# Thread: AnyIO worker thread(139901278353152)\n",
      "File: \"/usr/lib/python3.9/threading.py\", line 937, in _bootstrap\n",
      "  self._bootstrap_inner()\n",
      "File: \"/usr/lib/python3.9/threading.py\", line 980, in _bootstrap_inner\n",
      "  self.run()\n",
      "File: \"/workspace/stable-diffusion-webui/venv/lib/python3.9/site-packages/anyio/_backends/_asyncio.py\", line 797, in run\n",
      "  item = self.queue.get()\n",
      "File: \"/usr/lib/python3.9/queue.py\", line 171, in get\n",
      "  self.not_empty.wait()\n",
      "File: \"/usr/lib/python3.9/threading.py\", line 312, in wait\n",
      "  waiter.acquire()\n",
      "\n",
      "# Thread: Thread-6(139901647451904)\n",
      "File: \"/usr/lib/python3.9/threading.py\", line 937, in _bootstrap\n",
      "  self._bootstrap_inner()\n",
      "File: \"/usr/lib/python3.9/threading.py\", line 980, in _bootstrap_inner\n",
      "  self.run()\n",
      "File: \"/workspace/stable-diffusion-webui/venv/lib/python3.9/site-packages/tqdm/_monitor.py\", line 60, in run\n",
      "  self.was_killed.wait(self.sleep_interval)\n",
      "File: \"/usr/lib/python3.9/threading.py\", line 581, in wait\n",
      "  signaled = self._cond.wait(timeout)\n",
      "File: \"/usr/lib/python3.9/threading.py\", line 316, in wait\n",
      "  gotit = waiter.acquire(True, timeout)\n",
      "\n",
      "# Thread: AnyIO worker thread(139901610473216)\n",
      "File: \"/usr/lib/python3.9/threading.py\", line 937, in _bootstrap\n",
      "  self._bootstrap_inner()\n",
      "File: \"/usr/lib/python3.9/threading.py\", line 980, in _bootstrap_inner\n",
      "  self.run()\n",
      "File: \"/workspace/stable-diffusion-webui/venv/lib/python3.9/site-packages/anyio/_backends/_asyncio.py\", line 797, in run\n",
      "  item = self.queue.get()\n",
      "File: \"/usr/lib/python3.9/queue.py\", line 171, in get\n",
      "  self.not_empty.wait()\n",
      "File: \"/usr/lib/python3.9/threading.py\", line 312, in wait\n",
      "  waiter.acquire()\n",
      "\n",
      "# Thread: Thread-5(139901781669632)\n",
      "File: \"/usr/lib/python3.9/threading.py\", line 937, in _bootstrap\n",
      "  self._bootstrap_inner()\n",
      "File: \"/usr/lib/python3.9/threading.py\", line 980, in _bootstrap_inner\n",
      "  self.run()\n",
      "File: \"/usr/lib/python3.9/threading.py\", line 917, in run\n",
      "  self._target(*self._args, **self._kwargs)\n",
      "File: \"/workspace/stable-diffusion-webui/venv/lib/python3.9/site-packages/uvicorn/server.py\", line 61, in run\n",
      "  return asyncio.run(self.serve(sockets=sockets))\n",
      "File: \"/usr/lib/python3.9/asyncio/runners.py\", line 44, in run\n",
      "  return loop.run_until_complete(main)\n",
      "File: \"/usr/lib/python3.9/asyncio/base_events.py\", line 634, in run_until_complete\n",
      "  self.run_forever()\n",
      "File: \"/usr/lib/python3.9/asyncio/base_events.py\", line 601, in run_forever\n",
      "  self._run_once()\n",
      "File: \"/usr/lib/python3.9/asyncio/base_events.py\", line 1869, in _run_once\n",
      "  event_list = self._selector.select(timeout)\n",
      "File: \"/usr/lib/python3.9/selectors.py\", line 469, in select\n",
      "  fd_event_list = self._selector.poll(timeout, max_ev)\n",
      "\n",
      "# Thread: MemMon(139903888471808)\n",
      "File: \"/usr/lib/python3.9/threading.py\", line 937, in _bootstrap\n",
      "  self._bootstrap_inner()\n",
      "File: \"/usr/lib/python3.9/threading.py\", line 980, in _bootstrap_inner\n",
      "  self.run()\n",
      "File: \"/workspace/stable-diffusion-webui/modules/memmon.py\", line 41, in run\n",
      "  self.run_flag.wait()\n",
      "File: \"/usr/lib/python3.9/threading.py\", line 581, in wait\n",
      "  signaled = self._cond.wait(timeout)\n",
      "File: \"/usr/lib/python3.9/threading.py\", line 312, in wait\n",
      "  waiter.acquire()\n",
      "\n",
      "# Thread: MainThread(139906642425664)\n",
      "File: \"/workspace/stable-diffusion-webui/launch.py\", line 48, in <module>\n",
      "  main()\n",
      "File: \"/workspace/stable-diffusion-webui/launch.py\", line 44, in main\n",
      "  start()\n",
      "File: \"/workspace/stable-diffusion-webui/modules/launch_utils.py\", line 436, in start\n",
      "  webui.webui()\n",
      "File: \"/workspace/stable-diffusion-webui/webui.py\", line 126, in webui\n",
      "  server_command = shared.state.wait_for_server_command(timeout=5)\n",
      "File: \"/workspace/stable-diffusion-webui/modules/shared_state.py\", line 62, in wait_for_server_command\n",
      "  if self._server_command_signal.wait(timeout):\n",
      "File: \"/usr/lib/python3.9/threading.py\", line 581, in wait\n",
      "  signaled = self._cond.wait(timeout)\n",
      "File: \"/usr/lib/python3.9/threading.py\", line 316, in wait\n",
      "  gotit = waiter.acquire(True, timeout)\n",
      "File: \"/workspace/stable-diffusion-webui/modules/initialize_util.py\", line 156, in sigint_handler\n",
      "  dumpstacks()\n",
      "File: \"/workspace/stable-diffusion-webui/modules/initialize_util.py\", line 143, in dumpstacks\n",
      "  for filename, lineno, name, line in traceback.extract_stack(stack):\n"
     ]
    }
   ],
   "source": [
    "!sudo -u user bash ./env.sh {SD_ROOT} {GRADIO_USER} {GRADIO_PASS}"
   ]
  },
  {
   "cell_type": "code",
   "execution_count": null,
   "id": "c3911bed-3207-4361-80a3-0545f181b972",
   "metadata": {},
   "outputs": [],
   "source": []
  }
 ],
 "metadata": {
  "kernelspec": {
   "display_name": "Python 3 (ipykernel)",
   "language": "python",
   "name": "python3"
  },
  "language_info": {
   "codemirror_mode": {
    "name": "ipython",
    "version": 3
   },
   "file_extension": ".py",
   "mimetype": "text/x-python",
   "name": "python",
   "nbconvert_exporter": "python",
   "pygments_lexer": "ipython3",
   "version": "3.9.16"
  }
 },
 "nbformat": 4,
 "nbformat_minor": 5
}
