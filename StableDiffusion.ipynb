{
 "cells": [
  {
   "cell_type": "markdown",
   "id": "dff7e2b5-eea3-41f4-8179-23502b790781",
   "metadata": {},
   "source": [
    "# AUTOMATIC1111/stable-diffusion-webui\n",
    "\n",
    "## Clone and Setup"
   ]
  },
  {
   "cell_type": "code",
   "execution_count": null,
   "id": "1c2ea268-dd4a-4638-89c7-b99920f3e135",
   "metadata": {
    "execution": {
     "iopub.execute_input": "2023-11-22T15:34:52.317626Z",
     "iopub.status.busy": "2023-11-22T15:34:52.317161Z",
     "iopub.status.idle": "2023-11-22T15:34:52.323590Z",
     "shell.execute_reply": "2023-11-22T15:34:52.322450Z",
     "shell.execute_reply.started": "2023-11-22T15:34:52.317591Z"
    }
   },
   "outputs": [],
   "source": [
    "SD_ROOT = \"/workspace/stable-diffusion-webui\"\n",
    "SD_PERSISTENT_MODELS = \"/storage/sd/models\"\n",
    "\n",
    "SD_MODEL_PATH = f\"{SD_ROOT}/models/Stable-diffusion\"\n",
    "SD_VAE_PATH = f\"{SD_ROOT}/models/VAE\"\n",
    "SD_LORA_PATH = f\"{SD_ROOT}/models/Lora\"\n"
   ]
  },
  {
   "cell_type": "code",
   "execution_count": null,
   "id": "53b76c9e-4429-4770-b4a3-86f8fda56a5d",
   "metadata": {
    "execution": {
     "iopub.execute_input": "2023-11-22T15:34:53.433728Z",
     "iopub.status.busy": "2023-11-22T15:34:53.432616Z",
     "iopub.status.idle": "2023-11-22T15:34:53.959790Z",
     "shell.execute_reply": "2023-11-22T15:34:53.958227Z",
     "shell.execute_reply.started": "2023-11-22T15:34:53.433700Z"
    }
   },
   "outputs": [],
   "source": [
    "!sudo useradd user --uid 42"
   ]
  },
  {
   "cell_type": "code",
   "execution_count": null,
   "id": "526b4934-cfb8-42b1-a750-eb77c844c6a2",
   "metadata": {
    "execution": {
     "iopub.execute_input": "2023-11-22T15:34:55.668434Z",
     "iopub.status.busy": "2023-11-22T15:34:55.667923Z",
     "iopub.status.idle": "2023-11-22T15:34:56.209120Z",
     "shell.execute_reply": "2023-11-22T15:34:56.207674Z",
     "shell.execute_reply.started": "2023-11-22T15:34:55.668390Z"
    }
   },
   "outputs": [],
   "source": [
    "!rm -rf {SD_ROOT} && mkdir -p {SD_ROOT} && chown user:user -R {SD_ROOT}"
   ]
  },
  {
   "cell_type": "code",
   "execution_count": null,
   "id": "50f6996b-ce67-4fcf-974a-58866ad7dce0",
   "metadata": {
    "execution": {
     "iopub.execute_input": "2023-11-22T15:34:58.267520Z",
     "iopub.status.busy": "2023-11-22T15:34:58.267030Z",
     "iopub.status.idle": "2023-11-22T15:35:01.146362Z",
     "shell.execute_reply": "2023-11-22T15:35:01.144757Z",
     "shell.execute_reply.started": "2023-11-22T15:34:58.267479Z"
    }
   },
   "outputs": [],
   "source": [
    "\n",
    "!sudo -u user git clone https://github.com/AUTOMATIC1111/stable-diffusion-webui.git {SD_ROOT}"
   ]
  },
  {
   "cell_type": "code",
   "execution_count": null,
   "id": "9aa26d03-e0ad-48f9-bf54-f3c1cadb7ab2",
   "metadata": {
    "execution": {
     "iopub.execute_input": "2023-11-22T15:46:46.676602Z",
     "iopub.status.busy": "2023-11-22T15:46:46.676024Z",
     "iopub.status.idle": "2023-11-22T15:46:46.687891Z",
     "shell.execute_reply": "2023-11-22T15:46:46.686030Z",
     "shell.execute_reply.started": "2023-11-22T15:46:46.676557Z"
    }
   },
   "outputs": [],
   "source": [
    "import requests\n",
    "import shutil\n",
    "from pathlib import Path\n",
    "import glob\n",
    "\n",
    "assert Path(SD_MODEL_PATH).exists()\n",
    "Path(SD_LORA_PATH).mkdir(parents=True, exist_ok=True)\n",
    "\n",
    "for file in glob.glob(f'{SD_PERSISTENT_MODELS}/*'):\n",
    "    print(file)\n",
    "    shutil.copy(file, SD_MODEL_PATH)\n",
    "\n",
    "\n",
    "def download_file(url: str, dest: str, force: bool = False) -> None:\n",
    "    if Path(dest).exists() and not force:\n",
    "        return\n",
    "    with requests.get(url, stream=True) as r:\n",
    "        with open(dest, 'wb') as f:\n",
    "            shutil.copyfileobj(r.raw, f)"
   ]
  },
  {
   "cell_type": "code",
   "execution_count": null,
   "id": "b920c4ac-bf82-4683-b365-19a6b8e727a1",
   "metadata": {
    "execution": {
     "iopub.execute_input": "2023-11-22T16:07:58.492482Z",
     "iopub.status.busy": "2023-11-22T16:07:58.491987Z",
     "iopub.status.idle": "2023-11-22T16:07:58.505147Z",
     "shell.execute_reply": "2023-11-22T16:07:58.503114Z",
     "shell.execute_reply.started": "2023-11-22T16:07:58.492446Z"
    }
   },
   "outputs": [],
   "source": [
    "# download_file(\n",
    "#     url=\"https://huggingface.co/runwayml/stable-diffusion-v1-5/resolve/main/v1-5-pruned-emaonly.safetensors\",\n",
    "#     dest=f\"{SD_MODEL_PATH}/v1-5-pruned-emaonly.safetensors\"\n",
    "# )\n",
    "print(\"Downloading Juggernaut\")\n",
    "download_file(\n",
    "    url=\"https://civitai.com/api/download/models/198530?type=Model&format=SafeTensor&size=full&fp=fp16\",\n",
    "    dest=f\"{SD_MODEL_PATH}/JuggernautXL.safetensors\",\n",
    ")\n",
    "\n",
    "print(\"Downloading Amanda Sage Lora\")\n",
    "download_file(\n",
    "    url=\"https://civitai.com/api/download/models/210626?type=Model&format=SafeTensor\",\n",
    "    dest=f\"{SD_LORA_PATH}/AmandaSage.safetensors\"\n",
    ")\n",
    "\n",
    "print(\"Downloading DetailTweaker Lora\")\n",
    "download_file(\n",
    "    url=\"https://civitai.com/api/download/models/135867?type=Model&format=SafeTensor\",\n",
    "    dest=f\"{SD_LORA_PATH}/DetailTweakerXL.safetensors\"\n",
    ")\n",
    "\n",
    "print(\"Downloading Base Refiner\")\n",
    "download_file(\n",
    "    url=\"https://huggingface.co/stabilityai/stable-diffusion-xl-refiner-1.0/resolve/main/sd_xl_refiner_1.0.safetensors?download=true\",\n",
    "    dest=f\"{SD_MODEL_PATH}/sd_xl_refiner_1.0.safetensors\"\n",
    ")\n",
    "\n",
    "print(\"Downloading Base VAE\")\n",
    "download_file(\n",
    "    url=\"https://huggingface.co/stabilityai/sdxl-vae/resolve/main/sdxl_vae.safetensors?download=true\",\n",
    "    dest=f\"{SD_VAE_PATH}/sdxl_vae.safetensors\"\n",
    ")\n",
    "\n",
    "print(\"Downloading Architecture Real Mix\")\n",
    "download_file(\n",
    "    url=\"https://civitai.com/api/download/models/111612\",\n",
    "    dest=f\"{SD_MODEL_PATH}/ArchitectureRealMix.safetensors\"\n",
    ")\n",
    "print(\"Done!\")"
   ]
  },
  {
   "cell_type": "code",
   "execution_count": null,
   "id": "9f34ec26-5597-4bde-b29d-5a057c551bb2",
   "metadata": {
    "execution": {
     "iopub.execute_input": "2023-11-22T16:47:47.324938Z",
     "iopub.status.busy": "2023-11-22T16:47:47.324435Z",
     "iopub.status.idle": "2023-11-22T16:55:26.230735Z",
     "shell.execute_reply": "2023-11-22T16:55:26.229673Z",
     "shell.execute_reply.started": "2023-11-22T16:47:47.324900Z"
    }
   },
   "outputs": [],
   "source": [
    "!sudo -u user bash ./run_sd.sh {SD_ROOT}"
   ]
  },
  {
   "cell_type": "code",
   "execution_count": null,
   "id": "c3911bed-3207-4361-80a3-0545f181b972",
   "metadata": {},
   "outputs": [],
   "source": []
  }
 ],
 "metadata": {
  "kernelspec": {
   "display_name": "Python 3 (ipykernel)",
   "language": "python",
   "name": "python3"
  },
  "language_info": {
   "codemirror_mode": {
    "name": "ipython",
    "version": 3
   },
   "file_extension": ".py",
   "mimetype": "text/x-python",
   "name": "python",
   "nbconvert_exporter": "python",
   "pygments_lexer": "ipython3",
   "version": "3.9.16"
  }
 },
 "nbformat": 4,
 "nbformat_minor": 5
}
