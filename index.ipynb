{
 "cells": [
  {
   "cell_type": "markdown",
   "id": "3477eb26-e64a-4df5-970a-b2633df2af41",
   "metadata": {},
   "source": [
    "# KI@HSBI 2023\n",
    "\n",
    "## Open Source KI-Systeme selbst betreiben und anpassen\n",
    "\n",
    "[Stable Diffusion](https://caretech-owl.github.io/KI-at-HSBI/stable_diffusion.slides.html)\n",
    "\n",
    "[Llama](https://caretech-owl.github.io/KI-at-HSBI/llama.slides.html)"
   ]
  },
  {
   "cell_type": "code",
   "execution_count": null,
   "id": "778685b9-1686-4c9c-acac-fe51b42a0e28",
   "metadata": {},
   "outputs": [],
   "source": []
  }
 ],
 "metadata": {
  "kernelspec": {
   "display_name": "Python 3 (ipykernel)",
   "language": "python",
   "name": "python3"
  },
  "language_info": {
   "codemirror_mode": {
    "name": "ipython",
    "version": 3
   },
   "file_extension": ".py",
   "mimetype": "text/x-python",
   "name": "python",
   "nbconvert_exporter": "python",
   "pygments_lexer": "ipython3",
   "version": "3.11.6"
  }
 },
 "nbformat": 4,
 "nbformat_minor": 5
}
