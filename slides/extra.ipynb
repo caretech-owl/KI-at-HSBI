{
 "cells": [
  {
   "cell_type": "markdown",
   "metadata": {
    "slideshow": {
     "slide_type": "slide"
    }
   },
   "source": [
    "# Epilog und Ausblick\n",
    "\n",
    "Was ist, was wird?"
   ]
  },
  {
   "cell_type": "markdown",
   "metadata": {
    "slideshow": {
     "slide_type": "slide"
    }
   },
   "source": [
    "* Bild- und textgenerierende KI-Systeme lassen sich mit Hilfe von Open-Source-Software innerhalb von Minuten aufsetzen.\n",
    "* Die Auswahl an verfügbaren Modellen ist groß und wird täglich größer.\n",
    "* Zum Betreiben eines eigenen KI-Systems reicht ein handelsüblicher Rechner mit leistungsfähiger Grafikkarte.\n",
    "* Erfahrungen mit selbstbetriebenen Systemen lassen sich zum großen Teil auf kommerzielle Dienstleistungen übertragen und umgekehrt.\n",
    "* Die aktuelle 'Goldgräberstimmung' wird perspektivisch durch Übernahmen und eine damit einhergehende 'Marktkonsolidierung' abgelöst. Die Folge davon ist wahrscheinlich *[Enshitification](https://en.wikipedia.org/wiki/Enshittification)*."
   ]
  },
  {
   "cell_type": "markdown",
   "metadata": {
    "slideshow": {
     "slide_type": "slide"
    }
   },
   "source": [
    "## Bonus: Txt2Img -> Img2Snd\n",
    "\n",
    "SD-Modelle können darauf trainiert werden, Bilder von Spektrogrammen auszugeben. Diese können dann in Musik umgewandelt werden. Nachfolgend kann Sprache, die durch Text-to-Speeche erzeugt wurde, in ihrer Modulation und Tonalität auf die Musik angepasst werden.\n",
    "\n",
    "![](images/spectrogram.png)\n",
    "[CC BY-SA 4.0](https://en.wikipedia.org/wiki/Riffusion)"
   ]
  },
  {
   "cell_type": "markdown",
   "metadata": {
    "slideshow": {
     "slide_type": "slide"
    }
   },
   "source": [
    "<div style=\"display: flex; justify-content: center; align-items: center;\">\n",
    "    <div style=\"text-align: right; width: 40%; flex-grow: 5; margin-right: 3em;\">\n",
    "    Riffusion - <a href=\"https://www.riffusion.com/\">Website</a> bzw. <a href=\"https://github.com/riffusion/riffusion\">Quellcode</a>\n",
    "    </div>\n",
    "    <video controls style=\"width: 200px; flex-grow: 5;\">\n",
    "        <source src=\"images/RoboticPoetryRebellion.mp4\" type=\"video/mp4\" />\n",
    "    </video>\n",
    "    <div style=\"height: 300px; flex-shrink: 10;\"></div>\n",
    "</div>"
   ]
  },
  {
   "cell_type": "markdown",
   "metadata": {},
   "source": []
  }
 ],
 "metadata": {
  "language_info": {
   "name": "python"
  }
 },
 "nbformat": 4,
 "nbformat_minor": 2
}
