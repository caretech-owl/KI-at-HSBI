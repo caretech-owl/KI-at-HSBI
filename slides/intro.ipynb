{
 "cells": [
  {
   "cell_type": "markdown",
   "metadata": {
    "slideshow": {
     "slide_type": "slide"
    }
   },
   "source": [
    "# Open Source KI-Systeme selbst betreiben und anpassen\n",
    "\n",
    "Dr. Christoph Ostrau  \n",
    "Forschungsdateninfrastruktur (TransCareTech)  \n",
    "christoph.ostrau@hsbi.de\n",
    "\n",
    "Dr. Alexander Neumann  \n",
    "Softwaretechnologie im Gesundheits- und Sozialwesen (TransCareTech)  \n",
    "alexander.neumann1@hsbi.de\n"
   ]
  },
  {
   "cell_type": "markdown",
   "metadata": {
    "slideshow": {
     "slide_type": "slide"
    }
   },
   "source": [
    "\n",
    "\n",
    "<div style=\"display: flex; align-items: center;\">\n",
    "   <div style=\"margin: 0 2rem 0 2rem;\">\n",
    "    Humans doing the hard jobs on minimum wage while the robots write poetry and paint is not the future I wanted - Karl Sharro, Cartoonist\n",
    "   </div>\n",
    "   <img style=\"margin: 0 2rem 0 2rem;\" src=\"images/tin_wanderer.png\" width=\"300\">\n",
    "</div>\n",
    "\n"
   ]
  },
  {
   "cell_type": "markdown",
   "metadata": {},
   "source": [
    "## Inhalt\n",
    "\n",
    "* Vorbereitung\n",
    "  * Installation der notwendigen Software\n",
    "* Imaging: Stable Diffusion\n",
    "  * Setup und Konzepte\n",
    "  * Txt2Img, Img2Img, In- and Outpainting\n",
    "  * LoRA: Detailmanipulation und Stilveränderungen\n",
    "* Textgenerierung: Llama\n",
    "  * Setup und Konzepte\n",
    "  * Fortschreiben und Chat\n",
    "  * Von den Daten zur LoRA: Zitate"
   ]
  },
  {
   "cell_type": "markdown",
   "metadata": {},
   "source": [
    "## Ausgangssituation\n",
    "\n",
    "* vitales Ökosystem\n",
    "* technologisches Wettrennen\n",
    "* Ressource der Stunde: Trainingsdaten\n",
    "    - Reinforcement Learning from Human Feedback (RLHF)\n",
    "    - Entwicklungen offen, Dienstleistungen kostenlos\n",
    "* Aber: nach dem *Hype* folgt die *[Enshittification](https://en.wikipedia.org/wiki/Enshittification)*\n",
    "* Deshalb: die Möglichkeiten jetzt nutzen!"
   ]
  },
  {
   "cell_type": "markdown",
   "metadata": {},
   "source": [
    "## Vorgehen\n",
    "\n",
    "* Praktische Erfahrung vor Theorie\n",
    "* Reflektion vor Versuch und Irrtum\n",
    "* Hürde: Technischen (themenfernen) Anforderungen\n",
    "* Ziel: Technische Kompetenz"
   ]
  },
  {
   "cell_type": "markdown",
   "metadata": {
    "slideshow": {
     "slide_type": "slide"
    }
   },
   "source": [
    "### Triggerwarnung: Die genutzten Modelle wurden in ihre Ausgabe nicht künstlich limitiert und ihre Ausgaben werden nicht moderiert. Die vorgestellten Communities bieten (teils visuelle) Inhalte an, auf die wir keinen Einfluss haben. Bitte auf die anderen Teilnehmenden Rücksicht nehmen und bei Unsicherheiten nachfragen."
   ]
  },
  {
   "cell_type": "markdown",
   "metadata": {},
   "source": []
  }
 ],
 "metadata": {
  "language_info": {
   "name": "python"
  }
 },
 "nbformat": 4,
 "nbformat_minor": 2
}
