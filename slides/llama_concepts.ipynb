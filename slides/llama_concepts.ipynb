{
 "cells": [
  {
   "cell_type": "markdown",
   "metadata": {
    "slideshow": {
     "slide_type": "slide"
    }
   },
   "source": [
    "# Llama 2 - Concepts\n",
    "\n",
    "* https://github.com/oobabooga/text-generation-webui/wiki\n",
    "* https://www.promptingguide.ai/\n",
    "* https://learn.microsoft.com/en-us/azure/ai-services/openai/concepts/advanced-prompt-engineering"
   ]
  },
  {
   "cell_type": "markdown",
   "metadata": {
    "slideshow": {
     "slide_type": "slide"
    }
   },
   "source": [
    "## Parameters\n",
    "\n",
    "```mermaid\n",
    "flowchart LR\n",
    "    id0([Es])\n",
    "    id1([war])\n",
    "    id2.1([einmal])\n",
    "    id2.2([nicht])\n",
    "    id2.3([schon])\n",
    "    id2.4([Essenszeit])\n",
    "\n",
    "    id0 --> id1\n",
    "    id1 --0.4--> id2.1\n",
    "    id1 --0.3--> id2.2\n",
    "    id1 --0.2--> id2.3\n",
    "    id1 --0.1--> id2.4\n",
    "```"
   ]
  },
  {
   "cell_type": "markdown",
   "metadata": {
    "slideshow": {
     "slide_type": "slide"
    }
   },
   "source": [
    "```mermaid\n",
    "flowchart LR\n",
    "    id0([Es])\n",
    "    id1([war])\n",
    "    id2.1([einmal])\n",
    "    id2.2([nicht])\n",
    "    id2.3([schon])\n",
    "    id2.4([Essenszeit])\n",
    "\n",
    "    id0 --> id1\n",
    "    id1 --0.4--> id2.1\n",
    "    id1 --0.3--> id2.2\n",
    "    id1 --0.2--> id2.3\n",
    "    id1 --0.1--> id2.4\n",
    "```\n",
    "\n",
    "* **max_new_tokens**: Maximum number of tokens to generate. Don't set it higher than necessary: it is used in the truncation calculation through the formula (prompt_length) = min(truncation_length - max_new_tokens, prompt_length), so your prompt will get truncated if you set it too high.\n",
    "* **temperature**: Primary factor to control the randomness of outputs. 0 = deterministic (only the most likely token is used). Higher value = more randomness.\n",
    "* **top_p**: If not set to 1, select tokens with probabilities adding up to less than this number. Higher value = higher range of possible random results.\n",
    "* **min_p**: Tokens with probability smaller than (min_p) * (probability of the most likely token) are discarded."
   ]
  },
  {
   "cell_type": "markdown",
   "metadata": {
    "slideshow": {
     "slide_type": "slide"
    }
   },
   "source": [
    "```mermaid\n",
    "flowchart LR\n",
    "    id0([Es])\n",
    "    id1([war])\n",
    "    id2.1([einmal])\n",
    "    id2.2([nicht])\n",
    "    id2.3([schon])\n",
    "    id2.4([Essenszeit])\n",
    "\n",
    "    id0 --> id1\n",
    "    id1 --0.4--> id2.1\n",
    "    id1 --0.3--> id2.2\n",
    "    id1 --0.2--> id2.3\n",
    "    id1 --0.1--> id2.4\n",
    "```\n",
    "\n",
    "* **top_k**: Similar to top_p, but select instead only the top_k most likely tokens. Higher value = higher range of possible random results.\n",
    "* **repetition_penalty**: Penalty factor for repeating prior tokens. 1 means no penalty, higher value = less repetition, lower value = more repetition.\n",
    "* **context_length**:  The (predefined) number of tokens a language model can process at once.  It is the maximum length of the input sequence. It’s like the memory or attention span of the model.\n",
    "* **seed**: Ausgangswert für Pseudozufallsberechnungen. Gleicher Seed führ bei gleichen Parametern und Eingaben zu gleichem Ergebnis (bei deterministischen Modellen/Bibliotheken)"
   ]
  },
  {
   "cell_type": "markdown",
   "metadata": {
    "slideshow": {
     "slide_type": "slide"
    }
   },
   "source": [
    "## Textgenerierung"
   ]
  },
  {
   "cell_type": "markdown",
   "metadata": {
    "slideshow": {
     "slide_type": "slide"
    }
   },
   "source": [
    "### Standardfall"
   ]
  },
  {
   "cell_type": "markdown",
   "metadata": {
    "slideshow": {
     "slide_type": "slide"
    }
   },
   "source": [
    "### Chat"
   ]
  },
  {
   "cell_type": "markdown",
   "metadata": {
    "slideshow": {
     "slide_type": "slide"
    }
   },
   "source": [
    "#### Characters\n",
    "\n",
    "* https://botprompts.net/"
   ]
  },
  {
   "cell_type": "markdown",
   "metadata": {
    "slideshow": {
     "slide_type": "slide"
    }
   },
   "source": [
    "### Fragen und Antworten (Q & A)"
   ]
  },
  {
   "cell_type": "markdown",
   "metadata": {
    "slideshow": {
     "slide_type": "slide"
    }
   },
   "source": [
    "## LoRA"
   ]
  },
  {
   "cell_type": "markdown",
   "metadata": {},
   "source": [
    "### WikiQuote [de] - Zitate"
   ]
  },
  {
   "cell_type": "markdown",
   "metadata": {},
   "source": [
    "### Datenquelle"
   ]
  },
  {
   "cell_type": "markdown",
   "metadata": {},
   "source": [
    "### Daten vorbereiten"
   ]
  },
  {
   "cell_type": "markdown",
   "metadata": {},
   "source": [
    "### Training"
   ]
  },
  {
   "cell_type": "markdown",
   "metadata": {},
   "source": [
    "### LoRA laden"
   ]
  },
  {
   "cell_type": "markdown",
   "metadata": {},
   "source": []
  }
 ],
 "metadata": {
  "kernelspec": {
   "display_name": "notebook",
   "language": "python",
   "name": "python3"
  },
  "language_info": {
   "codemirror_mode": {
    "name": "ipython",
    "version": 3
   },
   "file_extension": ".py",
   "mimetype": "text/x-python",
   "name": "python",
   "nbconvert_exporter": "python",
   "pygments_lexer": "ipython3",
   "version": "3.11.6"
  }
 },
 "nbformat": 4,
 "nbformat_minor": 2
}
