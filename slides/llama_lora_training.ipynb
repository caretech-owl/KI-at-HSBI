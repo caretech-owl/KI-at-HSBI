{
 "cells": [
  {
   "cell_type": "markdown",
   "id": "19f6c6b5-6df1-4872-a0c8-403343a8b237",
   "metadata": {
    "slideshow": {
     "slide_type": "slide"
    }
   },
   "source": [
    "# LLMs spezialisieren mit LoRA\n",
    "## Am Beispiel deutscher Zitate"
   ]
  },
  {
   "cell_type": "markdown",
   "id": "5e085dac-8a6d-4c86-a4ed-23b746b77b0c",
   "metadata": {
    "editable": true,
    "slideshow": {
     "slide_type": "slide"
    },
    "tags": []
   },
   "source": [
    "### Installation und imports"
   ]
  },
  {
   "cell_type": "code",
   "execution_count": null,
   "id": "6b8f4f98-492f-47fe-86bc-351fac1465e8",
   "metadata": {},
   "outputs": [],
   "source": [
    "!pip install -q torch peft bitsandbytes transformers trl accelerate optimum auto-gptq scipy"
   ]
  },
  {
   "cell_type": "code",
   "execution_count": null,
   "id": "aec99938-cb63-46c3-b8a9-ebf2a3deda93",
   "metadata": {
    "editable": true,
    "slideshow": {
     "slide_type": ""
    },
    "tags": []
   },
   "outputs": [],
   "source": [
    "import torch\n",
    "from datasets import load_dataset\n",
    "from transformers import (\n",
    "    AutoModelForCausalLM,\n",
    "    AutoTokenizer,\n",
    "    BitsAndBytesConfig,\n",
    "    TrainingArguments,\n",
    "    pipeline\n",
    ")\n",
    "from peft import LoraConfig\n",
    "from trl import SFTTrainer"
   ]
  },
  {
   "cell_type": "markdown",
   "id": "69b4643a-bc66-4b10-867d-10e5d90208a8",
   "metadata": {
    "slideshow": {
     "slide_type": "slide"
    }
   },
   "source": [
    "### Das Grundmodell vorbereiten\n",
    "\n",
    "In diesem Abschnitt wird das Grundmodell (ein vortrainiertes LLM) heruntergeladen und geladen. Wird ein nicht-quantisiertes Modell geladen, kann dieses für das Training quantisiert in den Speicher geladen werden (auskommentiert).\n"
   ]
  },
  {
   "cell_type": "code",
   "execution_count": null,
   "id": "31c8ceb6-72a9-41a6-9926-5905d87d67b1",
   "metadata": {},
   "outputs": [],
   "source": [
    "base_model_name = \"TheBloke/leo-hessianai-7B-GPTQ\"\n",
    "revision = \"gptq-8bit-32g-actorder_True\" \n",
    "\n",
    "tokenizer = AutoTokenizer.from_pretrained(base_model_name, trust_remote_code=False)\n",
    "tokenizer.pad_token = tokenizer.eos_token\n",
    "tokenizer.padding_side = \"right\"  # Fix for fp16\n",
    "\n",
    "# Quantization Config (if needed)\n",
    "quant_config = BitsAndBytesConfig(\n",
    "    load_in_4bit=True,\n",
    "    bnb_4bit_quant_type=\"nf4\",\n",
    "    bnb_4bit_compute_dtype=torch.float16,\n",
    "    bnb_4bit_use_double_quant=False\n",
    ")"
   ]
  },
  {
   "cell_type": "code",
   "execution_count": null,
   "id": "6fe80ea1-98cf-4e8d-95fb-1c1953420d8b",
   "metadata": {
    "slideshow": {
     "slide_type": "subslide"
    }
   },
   "outputs": [],
   "source": [
    "# Das Grundmodell\n",
    "base_model = AutoModelForCausalLM.from_pretrained(\n",
    "    base_model_name,\n",
    "    revision=revision,\n",
    ")\n",
    "base_model.config.use_cache = False\n",
    "base_model.config.pretraining_tp = 1"
   ]
  },
  {
   "cell_type": "markdown",
   "id": "4c1b11ac-508f-4ff0-a174-cd16495cca40",
   "metadata": {
    "slideshow": {
     "slide_type": "slide"
    }
   },
   "source": [
    "### Den Prompt erstellen\n",
    "\n",
    "Der Prompt besteht aus 3 Teilen:\n",
    "* dem System-Prompt, der dem System als Startpunkt gegegeben wird\n",
    "* dem User-Prompt, der später vom User angegeben wird. Da wir lediglich Zitate von Personen haben wollen, wird auch dieser vorformatiert\n",
    "* dem Assisstent-Prompt, also der eigentlichen Antwort vom LLM, der im Training aber vorgegeben wird.\n",
    "\n",
    "Das Format ist durch das Grundmodell vorgegeben und in der jeweiligen Modell-Card auf HuggingFace dokumentiert\n"
   ]
  },
  {
   "cell_type": "code",
   "execution_count": null,
   "id": "0d90dc75-4014-43dd-a1d6-b61d0b6ee7d7",
   "metadata": {},
   "outputs": [],
   "source": [
    "prompt_format = \"<|im_start|>system\\n{system_prompt}<|im_end|>\\n\\\n",
    "<|im_start|>user\\n{prompt}<|im_end|>\\n<\\\n",
    "|im_start|>assistant\\n{target}<|im_end|>\\n\"\n",
    "system_prompt = \"\"\"Dies ist eine Unterhaltung zwischen einem\\\n",
    "intelligenten, hilfsbereitem KI-Assistenten und einem Nutzer.\n",
    "Der Assistent gibt Antworten in Form von Zitaten.\"\"\""
   ]
  },
  {
   "cell_type": "markdown",
   "id": "30228d8c-dabf-4bc1-97d9-a6a98e0952de",
   "metadata": {
    "slideshow": {
     "slide_type": "slide"
    }
   },
   "source": [
    "### Die Trainingsdaten vorbereiten\n",
    "In diesem Abschnitt laden wir die Trainingsdaten in den Arbeitsspeicher und bereiten diese für das Training vor."
   ]
  },
  {
   "cell_type": "code",
   "execution_count": null,
   "id": "ecf54d54-2114-437f-9208-e496378e400b",
   "metadata": {
    "editable": true,
    "slideshow": {
     "slide_type": ""
    },
    "tags": []
   },
   "outputs": [],
   "source": [
    "training_data = load_dataset(\"caretech-owl/wikiquote-de-quotes\", split=\"train\")\n",
    "\n",
    "# Funktion um den kompletten Prompt vorzubereiten\n",
    "def change_quote(dataitem):\n",
    "    quote = dataitem[\"quote\"]\n",
    "    author = dataitem[\"author\"]\n",
    "    full_prompt = prompt_format.format(system_prompt=system_prompt, \n",
    "                                       prompt=\"Zitiere \" + author, \n",
    "                                       target=quote + \" - \" + author )\n",
    "    dataitem.update({\"instruct\": full_prompt})\n",
    "    return dataitem\n",
    "# Datensatz erweitern\n",
    "training_data = training_data.map(change_quote)\n",
    "\n",
    "# Text in Token umwandeln, so kann direkt darauf trainiert werden\n",
    "training_data = training_data.map(lambda samples: tokenizer(samples[\"instruct\"]),\n",
    "                                  batched=True).shuffle()"
   ]
  },
  {
   "cell_type": "markdown",
   "id": "b20b0a25-b51c-4eab-a1ec-09f284ad9423",
   "metadata": {
    "editable": true,
    "slideshow": {
     "slide_type": "slide"
    },
    "tags": []
   },
   "source": [
    "### Das Lora Modell\n",
    "\n",
    "Nun definieren wir die LoraConfig. \n",
    " * ```lora_alpha``` scaliert die Gewichtung des LoRA im Vergleich zum Hauptmodell\n",
    " * ```lora_dropout``` ist die dropout Wahrscheinlichkeit\n",
    " * ```r``` ist die LoRA Dimension"
   ]
  },
  {
   "cell_type": "code",
   "execution_count": null,
   "id": "d72f8568-6848-4362-b604-5522f0ef2fcd",
   "metadata": {
    "editable": true,
    "slideshow": {
     "slide_type": ""
    },
    "tags": []
   },
   "outputs": [],
   "source": [
    "refined_model = \"../lora/german_quotes\"\n",
    "\n",
    "peft_parameters = LoraConfig(\n",
    "    lora_alpha=16,\n",
    "    lora_dropout=0.1,\n",
    "    r=8,\n",
    "    bias=\"none\",\n",
    "    task_type=\"CAUSAL_LM\",\n",
    ")"
   ]
  },
  {
   "cell_type": "markdown",
   "id": "88b275df-8f9a-4763-8d17-aba9d70a9e3b",
   "metadata": {
    "editable": true,
    "slideshow": {
     "slide_type": "slide"
    },
    "tags": []
   },
   "source": [
    "### Training\n",
    "\n",
    "Im folgenden werden Trainingsparameter definiert und das eigentliche Training durchgeführt.\n"
   ]
  },
  {
   "cell_type": "code",
   "execution_count": null,
   "id": "6cd09f84-00d3-411f-8000-02185395d0d0",
   "metadata": {
    "editable": true,
    "slideshow": {
     "slide_type": ""
    },
    "tags": []
   },
   "outputs": [],
   "source": [
    "# Training Params\n",
    "train_params = TrainingArguments(\n",
    "    output_dir=\"../.checkpoints\",\n",
    "    num_train_epochs=1,\n",
    "    per_device_train_batch_size=4,\n",
    "    gradient_accumulation_steps=1,\n",
    "    optim=\"paged_adamw_32bit\",\n",
    "    save_steps=25,\n",
    "    logging_steps=25,\n",
    "    learning_rate=2e-4,\n",
    "    weight_decay=0.001,\n",
    "    fp16=False,\n",
    "    bf16=False,\n",
    "    max_grad_norm=0.3,\n",
    "    max_steps=-1,\n",
    "    warmup_ratio=0.03,\n",
    "    group_by_length=True,\n",
    "    lr_scheduler_type=\"constant\",\n",
    "    no_cuda=True # comment out for GPU\n",
    ")"
   ]
  },
  {
   "cell_type": "code",
   "execution_count": null,
   "id": "c7829f99-17a4-4ec6-b2db-549ea04a0866",
   "metadata": {
    "editable": true,
    "slideshow": {
     "slide_type": "subslide"
    },
    "tags": []
   },
   "outputs": [],
   "source": [
    "# Trainer\n",
    "fine_tuning = SFTTrainer(\n",
    "    model=base_model,\n",
    "    train_dataset=training_data,\n",
    "    peft_config=peft_parameters,\n",
    "    dataset_text_field=\"instruct\",\n",
    "    tokenizer=tokenizer,\n",
    "    args=train_params,\n",
    "    max_seq_length=300\n",
    ")"
   ]
  },
  {
   "cell_type": "code",
   "execution_count": null,
   "id": "35835e87-f349-452b-8fca-5363667f17da",
   "metadata": {
    "editable": true,
    "slideshow": {
     "slide_type": ""
    },
    "tags": []
   },
   "outputs": [],
   "source": [
    "# Training (this could take some time)\n",
    "fine_tuning.train()\n",
    "\n",
    "# Save Model\n",
    "fine_tuning.model.save_pretrained(refined_model)"
   ]
  },
  {
   "cell_type": "markdown",
   "id": "28c1f53d-871e-464d-b5dd-6d61c46eb862",
   "metadata": {
    "editable": true,
    "slideshow": {
     "slide_type": "slide"
    },
    "tags": []
   },
   "source": [
    "### Das Modell testen \n",
    "Ohne neu zu laden...\n"
   ]
  },
  {
   "cell_type": "code",
   "execution_count": null,
   "id": "8db9a4e9-ecee-4e60-9104-2fe685f54cc0",
   "metadata": {
    "editable": true,
    "slideshow": {
     "slide_type": ""
    },
    "tags": []
   },
   "outputs": [],
   "source": [
    "text_gen = pipeline(task=\"text-generation\", model=fine_tuning.model,\n",
    "                    tokenizer=llama_tokenizer, max_length=200)\n",
    "query = prompt_format.format(system_prompt=system_prompt,\n",
    "                             prompt=\"Zitiere Oscar Wilde\")\n",
    "output = text_gen(query,do_sample=True, top_p=0.95, max_length=200)\n",
    "print(output[0]['generated_text'])"
   ]
  },
  {
   "cell_type": "markdown",
   "id": "e538e7d3-4343-43f5-a979-c42c9cc3db74",
   "metadata": {
    "editable": true,
    "slideshow": {
     "slide_type": "slide"
    },
    "tags": []
   },
   "source": [
    "### Das Modell Speichern, quantisieren und veröffentlichen\n"
   ]
  },
  {
   "cell_type": "code",
   "execution_count": null,
   "id": "01f05025-e738-4975-9d86-7cea2b233fea",
   "metadata": {
    "editable": true,
    "slideshow": {
     "slide_type": ""
    },
    "tags": []
   },
   "outputs": [],
   "source": [
    "merged_model = peft_model.merge_and_unload()\n",
    "merged_model.save_pretrained(\"german_quotes_lora_merged_full\")"
   ]
  },
  {
   "cell_type": "markdown",
   "id": "f4e48ff2-dbce-45af-8cc5-7b23ab26fd0e",
   "metadata": {
    "editable": true,
    "slideshow": {
     "slide_type": ""
    },
    "tags": []
   },
   "source": [
    "Das gespeicherte Modell lässt sich nun mit Hilfe der Projekts llama.cpp quantisieren. Dazu\n",
    "```bash\n",
    "git clone https://github.com/ggerganov/llama.cpp\n",
    "pip install huggingface_hub gguf sentencepiece\n",
    "cd llama.cpp\n",
    "llama.cpp/convert.py german_quotes_lora_merged_full \\\n",
    "    --outfile german_quotes_lora_merged_full.gguf --outtype q8_0\n",
    "huggingface-cli login\n",
    "```\n",
    "Beim letzten Befehl einen Token eingeben, den man hier erstellt: https://huggingface.co/settings/tokens\n",
    "Jetzt muss das Modell nur noch hochgeladen werden!"
   ]
  },
  {
   "cell_type": "code",
   "execution_count": null,
   "id": "6bcdd8b8-3db3-40b0-a5b8-229493152fa3",
   "metadata": {
    "editable": true,
    "slideshow": {
     "slide_type": "subslide"
    },
    "tags": []
   },
   "outputs": [],
   "source": [
    "from huggingface_hub import HfApi\n",
    "api = HfApi()\n",
    "\n",
    "model_id = \"caretech-owl/leo-hessionai-7B-quotes-gguf\"\n",
    "api.create_repo(model_id, exist_ok=True, repo_type=\"model\")\n",
    "api.upload_file(\n",
    "    repo_id=model_id,\n",
    "    path_or_fileobj=\"german_quotes_lora_merged_full.gguf\",\n",
    "    path_in_repo=\"leo-hessionai-7B-quotes.Q8.gguf\"\n",
    ")"
   ]
  }
 ],
 "metadata": {
  "kernelspec": {
   "display_name": "Python 3 (ipykernel)",
   "language": "python",
   "name": "python3"
  },
  "language_info": {
   "codemirror_mode": {
    "name": "ipython",
    "version": 3
   },
   "file_extension": ".py",
   "mimetype": "text/x-python",
   "name": "python",
   "nbconvert_exporter": "python",
   "pygments_lexer": "ipython3",
   "version": "3.11.6"
  }
 },
 "nbformat": 4,
 "nbformat_minor": 5
}
