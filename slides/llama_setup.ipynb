{
 "cells": [
  {
   "cell_type": "markdown",
   "id": "8983a092-8fd7-45a8-a591-e954b0232393",
   "metadata": {},
   "source": [
    "# Llama 2 - Setup"
   ]
  },
  {
   "cell_type": "code",
   "execution_count": null,
   "id": "dbe9749c-bbcf-41fc-8f73-9e40bb56f529",
   "metadata": {},
   "outputs": [],
   "source": [
    "from pathlib import Path\n",
    "import platform\n",
    "\n",
    "# Where should the webui downloaded to?\n",
    "LLAMA_ROOT = Path(__folder__)\n",
    "\n",
    "# Determine the operating system\n",
    "if platform.system() == \"Darwin\":\n",
    "    OS = \"macos\"\n",
    "elif platform.system() == \"Windows\":\n",
    "    OS = \"windows\"\n",
    "else:\n",
    "    OS = \"linux\"\n",
    "\n",
    "# This will be set automatically\n",
    "INSTALLER = LLAMA_ROOT.joinpath(f\"start_{OS}.{'bat' if OS == 'windows' else 'sh'}\")\n",
    "\n",
    "# This is only relevant for remote hosting\n",
    "# GRADIO_USER = __user__\n",
    "# GRADIO_PASS = __password__\n",
    "# !rm -rf {LLAMA_ROOT} && mkdir -p {LLAMA_ROOT}"
   ]
  },
  {
   "cell_type": "code",
   "execution_count": null,
   "id": "d83197c9-6377-4bf8-b9f2-fd25e02361fd",
   "metadata": {
    "execution": {
     "iopub.execute_input": "2023-11-23T10:26:57.182183Z",
     "iopub.status.busy": "2023-11-23T10:26:57.181383Z",
     "iopub.status.idle": "2023-11-23T10:26:59.109526Z",
     "shell.execute_reply": "2023-11-23T10:26:59.108314Z",
     "shell.execute_reply.started": "2023-11-23T10:26:57.182151Z"
    }
   },
   "outputs": [],
   "source": [
    "!git clone https://github.com/oobabooga/text-generation-webui.git {LLAMA_ROOT}"
   ]
  },
  {
   "cell_type": "code",
   "execution_count": null,
   "id": "8c6e25d2-40b0-4c17-978c-25716a166455",
   "metadata": {
    "execution": {
     "iopub.execute_input": "2023-11-23T11:12:07.448490Z",
     "iopub.status.busy": "2023-11-23T11:12:07.447635Z"
    }
   },
   "outputs": [],
   "source": [
    "# %env COMMANDLINE_ARGS\n",
    "%env COMMANDLINE_ARGS --share --gradio-auth {GRADIO_USER}:{GRADIO_PASS}\n",
    "%env LLAMA_ROOT {LLAMA_ROOT}\n",
    "%env GPU_CHOICE \"A\"\n",
    "%env USE_CUDA118 \"N\"\n",
    "%env INSTALLER {INSTALLER}\n",
    "# %env LAUNCH_AFTER_INSTALL=\"FALSE\"\n",
    "\n",
    "!cd ${LLAMA_ROOT} && ${INSTALLER} ${COMMANDLINE_ARGS}"
   ]
  },
  {
   "cell_type": "markdown",
   "id": "f5801934-b0b6-4e42-a33e-25bb6531c517",
   "metadata": {},
   "source": [
    "* Intel/neural-chat-7b-v3-1\n",
    "* TheBloke/leo-hessianai-13B-AWQ main\n",
    "* TheBloke/leo-hessianai-7B-GGUF leo-hessianai-7b.Q5_K_M.gguf"
   ]
  },
  {
   "cell_type": "code",
   "execution_count": null,
   "id": "b546f3a9-efd0-4536-bb5c-2b80928073e6",
   "metadata": {},
   "outputs": [],
   "source": []
  }
 ],
 "metadata": {
  "kernelspec": {
   "display_name": "Python 3 (ipykernel)",
   "language": "python",
   "name": "python3"
  },
  "language_info": {
   "codemirror_mode": {
    "name": "ipython",
    "version": 3
   },
   "file_extension": ".py",
   "mimetype": "text/x-python",
   "name": "python",
   "nbconvert_exporter": "python",
   "pygments_lexer": "ipython3",
   "version": "3.10.13"
  }
 },
 "nbformat": 4,
 "nbformat_minor": 5
}
