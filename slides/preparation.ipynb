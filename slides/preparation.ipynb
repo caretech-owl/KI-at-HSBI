{
  "cells": [
    {
      "cell_type": "markdown",
      "id": "2ed6c21c-1ef8-47a0-8ec9-314d67cee15f",
      "metadata": {
        "editable": true,
        "slideshow": {
          "slide_type": "slide"
        },
        "tags": []
      },
      "source": [
        "# Vorbereitung\n",
        "\n",
        "Wer eine Instanz der vorgestellten Software betreiben möchte, sollte einen Rechner mit einer leistungstarken Grafikkarte (von Nvidia) besitzen. Besonders der Grafikkartenspeicher entscheidet darüber, welche Modelle genutzt werden können und welche nicht."
      ]
    },
    {
      "cell_type": "markdown",
      "id": "132b73d0",
      "metadata": {
        "editable": true,
        "slideshow": {
          "slide_type": "slide"
        },
        "tags": []
      },
      "source": [
        "## Notwendige Software\n",
        "\n",
        "Auch wenn die Installation nur wenige Schritte umfassen wird, werden ein paar Entwicklungswerkzeuge benötigt."
      ]
    },
    {
      "cell_type": "code",
      "execution_count": null,
      "metadata": {
        "vscode": {
          "languageId": "plaintext"
        }
      },
      "outputs": [],
      "source": []
    },
    {
      "cell_type": "markdown",
      "id": "5aef3a96",
      "metadata": {
        "editable": true,
        "slideshow": {
          "slide_type": "slide"
        },
        "tags": []
      },
      "source": [
        "<div style=\"text-align: center; margin-top: 1rem;\">\n",
        "   <img src=\"images/git.svg\" width=\"300\">\n",
        "</div>\n",
        "\n",
        "**Git** ist das meistgenutzte Versionskontrollsystem und ein essenzielles Werkzeug für die Softwarenticklung.\n",
        "Windowsnutzende können Git [hier](https://git-scm.com/download/win) herunterladen.\n",
        "Nutzer:innen von Linux nutzen am besten ihre jeweilige Paketverwaltung.\n",
        "Unter MacOS ist die Installation via [homebrew](https://brew.sh/) empfohlen."
      ]
    },
    {
      "cell_type": "markdown",
      "id": "843fe796",
      "metadata": {
        "editable": true,
        "slideshow": {
          "slide_type": "slide"
        },
        "tags": []
      },
      "source": [
        "<div style=\"text-align: center; margin-top: 1rem;\">\n",
        "   <img src=\"images/python.svg\" width=\"300\">\n",
        "</div>\n",
        "\n",
        "**Python** ist die aktuell meistgenutzte Programmiersprache im Bereich des Maschinellen Lernens.\n",
        "Die Installation und Verwaltung von zusätzlichen Programmbibliotheken kann für unerfahrene Nutzende verwirrend sein.\n",
        "Wer bisher noch keine Erfahrung mit Python gesammelt hat, kann mit [miniconda](https://docs.conda.io/projects/miniconda/en/latest/) ein Werkzeug zur Verwaltung von verschiedenen Python-Versionen und Entwicklungsumgebungen nutzen. Nutzer:innen von MacOS können auch wieder [Homebrew](https://formulae.brew.sh/cask/miniconda) zum installieren benutzen."
      ]
    },
    {
      "cell_type": "markdown",
      "metadata": {
        "slideshow": {
          "slide_type": "slide"
        }
      },
      "source": [
        "## Los geht's\n",
        "\n",
        "Zumindest fast..."
      ]
    },
    {
      "cell_type": "markdown",
      "metadata": {
        "slideshow": {
          "slide_type": "slide"
        }
      },
      "source": [
        "### Conda initialisieren\n",
        "\n",
        "Wir brauchen ein Terminal mit Conda. **Windowsnutzende** suchen im Startmenu nach `conda` oder `Anaconda` und wählen den `Anaconda Prompt` aus. **Nutzende von MacOS** nutzen bspw. die App `Terminal` und **Linuxnutzende** das Terminal ihrer Wahl. Beide müssen Conda einmalig initialisieren, indem sie\n",
        "\n",
        "```bash\n",
        "conda init \"$(basename \"${SHELL}\")\"\n",
        "```\n",
        "\n",
        "eingeben, das Terminal schließen und erneut öffnen. Danach sollte auf allen Betriebssystem ein folgender Kommandoprompt auf allen Systemen zu sehen sein, der in etwa so aussieht:\n",
        "\n",
        "```bash\n",
        "(base) ~ %\n",
        "```\n",
        "\n",
        "Anstatt einer `~` kann hier auch ein Pfad angegeben sein. Dieser Pfad signalisiert den 'Ort' an dem wie ein Kommando ausführen."
      ]
    },
    {
      "cell_type": "markdown",
      "metadata": {
        "slideshow": {
          "slide_type": "slide"
        }
      },
      "source": [
        "### Zur richtigen Zeit am richtigen Ort\n",
        "\n",
        "Als nächstes wechseln wir in den Ordner, wo wir unser Projekt ablegen wollen.\n",
        "Falls das ein neuer Ordner sein soll, kann dieser mit `Windows Explorer`, `Nautilus` oder `Finder` oder via Kommandoprompt angelegt werden. Um in diesen Pfad zu wechseln nutzen wir das Kommando 'change directory' `cd`.\n",
        "\n",
        "```shell\n",
        "(base) ~ % cd /Users/aneumann9/workspace\n",
        "(base) workspace % \n",
        "```\n"
      ]
    },
    {
      "cell_type": "markdown",
      "metadata": {
        "slideshow": {
          "slide_type": "slide"
        }
      },
      "source": [
        "### Vom Klonen, planetaren Notizbücher, virtuellen Umgebungen\n",
        "\n",
        "Jetzt passiert viel auf einmal. Wir laden uns nun das Workshopmaterial herunter, wecheln in den Ordner, erstellen eine virtuelle Umgebung, aktivieren diese und installen die notwendigen Software. Zuletzt starten wir noch einen Notebook-Server:\n",
        "\n",
        "```shell\n",
        "(base) workspace % git clone https://github.com/caretech-owl/KI-at-HSBI.git\n",
        "(base) workspace % cd KI-at-HSBI\n",
        "(base) KI-at-HSBI % conda create -n ki python=3.10\n",
        "(base) KI-at-HSBI % conda activate ki\n",
        "(ki) KI-at-HSBI % pip install -r requirements.txt\n",
        "(ki) KI-at-HSBI % jupyter notebook\n",
        "```"
      ]
    },
    {
      "cell_type": "markdown",
      "metadata": {},
      "source": []
    }
  ],
  "metadata": {
    "kernelspec": {
      "display_name": "Python 3 (ipykernel)",
      "language": "python",
      "name": "python3"
    },
    "language_info": {
      "codemirror_mode": {
        "name": "ipython",
        "version": 3
      },
      "file_extension": ".py",
      "mimetype": "text/x-python",
      "name": "python",
      "nbconvert_exporter": "python",
      "pygments_lexer": "ipython3",
      "version": "3.11.6"
    }
  },
  "nbformat": 4,
  "nbformat_minor": 5
}
