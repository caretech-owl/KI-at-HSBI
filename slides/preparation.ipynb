{
 "cells": [
  {
   "cell_type": "markdown",
   "id": "2ed6c21c-1ef8-47a0-8ec9-314d67cee15f",
   "metadata": {
    "editable": true,
    "slideshow": {
     "slide_type": "slide"
    },
    "tags": []
   },
   "source": [
    "# Vorbereitung"
   ]
  },
  {
   "cell_type": "markdown",
   "id": "132b73d0",
   "metadata": {
    "editable": true,
    "slideshow": {
     "slide_type": "slide"
    },
    "tags": []
   },
   "source": [
    "## Notwendige Software"
   ]
  },
  {
   "cell_type": "markdown",
   "id": "5aef3a96",
   "metadata": {
    "editable": true,
    "slideshow": {
     "slide_type": "slide"
    },
    "tags": []
   },
   "source": [
    "### Git\n",
    "\n",
    "Git ist das meistgenutzte Versionskontrollsystem und ein essenzielles Werkzeug für die Softwarenticklung.\n",
    "Windowsnutzende können Git [hier](https://git-scm.com/download/win) herunterladen.\n",
    "Nutzer:innen von Linux nutzen am besten ihre jeweilige Paketverwaltung.\n",
    "Unter MacOS ist die Installation via [homebrew](https://brew.sh/) empfohlen."
   ]
  },
  {
   "cell_type": "markdown",
   "id": "843fe796",
   "metadata": {
    "editable": true,
    "slideshow": {
     "slide_type": "slide"
    },
    "tags": []
   },
   "source": [
    "### Python\n",
    "\n",
    "Python ist die aktuell meistgenutzte Programmiersprache im Bereich des Maschinellen Lernens.\n",
    "Die Installation und Verwaltung von zusätzlichen Programmbibliotheken kann für unerfahrene Nutzende verwirrend sein.\n",
    "Wer bisher noch keine Erfahrung mit Python gesammelt hat, kann mit [miniconda](https://docs.conda.io/projects/miniconda/en/latest/) ein Werkzeug zur Verwaltung von verschiedenen Python-Versionen und Entwicklungsumgebungen nutzen."
   ]
  }
 ],
 "metadata": {
  "kernelspec": {
   "display_name": "Python 3 (ipykernel)",
   "language": "python",
   "name": "python3"
  },
  "language_info": {
   "codemirror_mode": {
    "name": "ipython",
    "version": 3
   },
   "file_extension": ".py",
   "mimetype": "text/x-python",
   "name": "python",
   "nbconvert_exporter": "python",
   "pygments_lexer": "ipython3",
   "version": "3.11.6"
  }
 },
 "nbformat": 4,
 "nbformat_minor": 5
}
