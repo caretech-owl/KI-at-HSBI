{
 "cells": [
  {
   "cell_type": "markdown",
   "metadata": {
    "slideshow": {
     "slide_type": "slide"
    }
   },
   "source": [
    "# Stable Diffusion - Konzepte\n",
    "\n",
    "Für die Demonstration werden wir `Automatic1111` verwenden.\n",
    "Wir werden dabei nicht auf alle Features eingehen können.\n",
    "Detaillierte Informationen sind im [Projekt-Wiki](https://github.com/AUTOMATIC1111/stable-diffusion-webui/wiki/Features) zu finden oder in diesem [Showcase](https://github.com/AUTOMATIC1111/stable-diffusion-webui-feature-showcase).\n",
    "\n",
    "Wer einige der Modelle und Features von Stable Diffusion online ausprobieren möchte, kann einen Account of [NightCafe](https://creator.nightcafe.studio/) erstellen und kostenlos ein paar Bilder generieren."
   ]
  },
  {
   "cell_type": "markdown",
   "metadata": {
    "slideshow": {
     "slide_type": "slide"
    }
   },
   "source": [
    "## Vom Text zum Bild: Txt2Img\n",
    "\n",
    "<div style=\"text-align: center; margin-top: 1rem;\">\n",
    "    <img src=\"images/istanbul.jpeg\" width=300 />\n",
    "    <div>\n",
    "        <a href=\"https://civitai.com/images/3224460\"> nexus99@Civitai.com </a>\n",
    "    </div>\n",
    "</div>\n"
   ]
  },
  {
   "cell_type": "markdown",
   "metadata": {
    "slideshow": {
     "slide_type": "slide"
    }
   },
   "source": [
    "### Prompts\n",
    "\n",
    "* zenraler Teil der (Text- und) Bildgenerierung\n",
    "* neuer Beruf: Prompt Engineer\n",
    "* Promptkomposition\n",
    "  + spezifischer Inhalt\n",
    "  + Medium (Foto, Gemälde)\n",
    "  + Stil (ggfs. nach Künstler)\n",
    "  + Anmerkungen und Details\n",
    "  + Gewichtung nutzen\n",
    "\n",
    "```\n",
    "Chaotic stunning istanbul city, skyline, illustrated by hergé, style of tin tin comics, pen and ink. vintage 90's anime style, colorful clouds, symmetric\n",
    "```"
   ]
  },
  {
   "cell_type": "markdown",
   "metadata": {
    "slideshow": {
     "slide_type": "slide"
    }
   },
   "source": [
    "### Gewichtung (Attention)\n",
    "\n",
    "* ein `(Wort)` - erhöht die Gewichtung auf 1.1\n",
    "* ein `((Wort))` - erhöht die Gewichtung erneut um den Faktor 1.1 auf 1.21 (= 1.1 * 1.1)\n",
    "* ein `[Wort]` - reduziert die Gewichtung um den Faktor 1.1 \n",
    "* ein `(Wort:1.5)` - erhöht die Gewichtung um den Faktor 1.5\n",
    "* ein `(Wort:0.25)` - reduziert die Gewichtung um den Faktor 4 (= 1 / 0.25)\n",
    "* um runde Klammern im Prompt zu benutzen, müssen diese 'escaped' werden: `\\(Wort\\)`"
   ]
  },
  {
   "cell_type": "markdown",
   "metadata": {
    "slideshow": {
     "slide_type": "slide"
    }
   },
   "source": [
    "### Prompt Chunks and BREAK\n",
    "\n",
    "Ein Prompt ist normalerweise auf 75 Tokens begrenzt.\n",
    "Wird ein längerer Prompt verwendet, wird ein neues Segment/ein neuer \"Chunk\" erzeugt und der Prompt in mehrer Teile zerlegt.\n",
    "Jeder Chunk wird unabhängig von anderen Chunks vorverarbeitet und danach mit den Ergebnissen der anderen Chungs kombiniert, bevor die Eingabe dem Modell übergeben wird.\n",
    "Um Inhalte zu gruppieren oder semantisch zu trennen, kann ein Chunk mit dem Codewort `BREAK` auch vor Erreichen der 75-Token-Grenze beendet werden."
   ]
  },
  {
   "cell_type": "markdown",
   "metadata": {
    "slideshow": {
     "slide_type": "slide"
    }
   },
   "source": [
    "### Negative Prompt\n",
    "\n",
    "* fast genauso wichtig wie der normale Prompt\n",
    "* großer Einfluss auf den Inhalt und die Ästhetik\n",
    "* weniger rigide gestaltet\n",
    "\n",
    "```\n",
    "(worst quality, low quality, normal quality, lowres, low details, oversaturated, undersaturated, overexposed, underexposed, grayscale, bw, bad photo, bad photography, bad art:1.4), (watermark, signature, text font, username, error, logo, words, letters, digits, autograph, trademark, name:1.2), (blur, blurry, grainy), morbid, ugly, asymmetrical, mutated malformed, mutilated, poorly lit, bad shadow, draft, cropped, out of frame, cut off, censored, jpeg artifacts, out of focus, glitch, duplicate, (bad hands, bad anatomy, bad body, bad face, bad teeth, bad arms, bad legs, deformities:1.3)\n",
    "```"
   ]
  },
  {
   "cell_type": "markdown",
   "metadata": {
    "slideshow": {
     "slide_type": "slide"
    }
   },
   "source": [
    "### Manche Konzepte sind schwer zu vermitteln #Challenge\n",
    "\n",
    "<div style=\"text-align: center; margin-top: 1rem;\">\n",
    "    <img src=\"images/racoons.jpg\" width=300 />\n",
    "</div>\n",
    "\n",
    "\n",
    "```\n",
    "a photo of three raccoons in a trench coat pretending to be one human, high resolution, city, street, sunny weather\n",
    "```"
   ]
  },
  {
   "cell_type": "markdown",
   "metadata": {
    "slideshow": {
     "slide_type": "slide"
    }
   },
   "source": [
    "\n",
    "### Stable Diffusion ist eine **K**ompos**I**tion \n",
    "\n",
    "* CLIP -> Text zu Zahlen\n",
    "* Base -> Generierung des initialen Bildes aus visuellem niedrigaufgelösten Rauschen\n",
    "* Refiner -> Herausarbeitung von Bilddetails auf hochaufgelöstem Bild (optional)\n",
    "* VAE -> Autoencoder; Kodierungs- und Dekodierungshilfe zur Verbesserung der Bildqualität (optional)\n"
   ]
  },
  {
   "cell_type": "markdown",
   "metadata": {
    "slideshow": {
     "slide_type": "slide"
    }
   },
   "source": [
    "### Grundlegende Parameter \n",
    "\n",
    "* **CFG Scale**: bestimmt wie genau sich der Bildgenerierungsprozess an den Prompts orientieren soll. \"Näher am Prompt\" bedeutet aber nicht, dass das Bild ästhetisch ansprechender ist. Werte größer als `15` werden teils sehr surreal. Kleinere Werte wie bspw. `2` erzeugen 'natürlichere' Bilder, die den Trainingsdaten näher kommen.\n",
    "* **Bildformat** [w/h]: die Größe des anfänglichen Rauschens, unterschiedliche Seitenverhältnisse verändern die Ausgaben teils drastisch\n",
    "  * hängen vom gewählten Model ab (SD 1.5 512x512; SDXL 1024x1024)\n",
    "  * große Bilder = mehr Speicherbedarf = längere Berechnungen\n",
    "* **Sampling Steps**: die Anzahl der Iteration, eine hohe Anzahl erzeugt mehr Details, bedeutet aber auch eine längere Bearbeitungszeit\n",
    "* **Batch Size**: Wie viele Bilder sollen pro Durchlauf berechnet werden\n",
    "* **Batch Count**: Wie viele Durchläufe sollen durchgeführt werden\n",
    "* **Refiner**: gibt an, wann soll das Basismodel durch das *Refiner*-Modell ersetzt werden\n",
    "* **VAE**: muss erst über die Settings aktiviert werden\n"
   ]
  },
  {
   "cell_type": "markdown",
   "metadata": {
    "slideshow": {
     "slide_type": "slide"
    }
   },
   "source": [
    "### Weitere Parameter\n",
    "\n",
    "* **Sampling method**: die genutzte Methode, um aus dem zufällig erzeugten Bild das Rauschen schrittweise zu entfernen\n",
    "  * Euler A (Standard), DPM++ 2M Karras (schnell), DDIM (schneller), DPM2 a (langsam)\n",
    "  * bei vielen Samlplingschritten konvergieren viele Sampler zu einem ähnlichen Bild\n",
    "* **Clip Skip**: Wenn höher als 1 wird die Konvertierung des Textprompts früher abgebrochen\n",
    "* **Eta Noise Seed Delta (ENSD)**: Zufallsfaktor bei der Generierung verschiedener Bilder, relevant für Reproduzierbarkeit\n",
    "* **Upscaling/Hires.fix**: Entfernt Artefakte aus dem Bild und erhöht die Auflösung\n",
    "  * **Face Restoration**: Herunter- und wieder Hochskalierung mit GFPGAN or CodeFormer von Bildteilen in denen Gesichter vermutet werden"
   ]
  },
  {
   "cell_type": "markdown",
   "metadata": {
    "slideshow": {
     "slide_type": "slide"
    }
   },
   "source": [
    "### Prompt 'Tweaks'\n",
    "\n",
    "#### Temporäre Schlüsselwörter\n",
    "\n",
    "* `[to:when]` - adds to to the prompt after a fixed number of steps (when)\n",
    "* `[from::when]` - removes from from the prompt after a fixed number of steps (when)\n",
    "\n",
    "`a [fantasy:cyberpunk:16] landscape`\n",
    "\n",
    "#### Prompt matrix\n",
    "\n",
    "Promptsegmente mit `|` unterteilt werden verschiedene Prompts erzeugt. Das erlaubt das schnelle Ausprobieren verschiedener Kombinationen:\n",
    "\n",
    "`a busy city street in a modern city|illustration|cinematic lighting prompt`\n",
    "\n",
    "* a busy city street in a modern city\n",
    "* a busy city street in a modern city, illustration\n",
    "* a busy city street in a modern city, cinematic lighting\n",
    "* a busy city street in a modern city, illustration, cinematic lighting"
   ]
  },
  {
   "cell_type": "markdown",
   "metadata": {
    "slideshow": {
     "slide_type": "slide"
    }
   },
   "source": [
    "## Vom Bild (und Text) zum Bild: Img2Img"
   ]
  },
  {
   "cell_type": "markdown",
   "metadata": {
    "slideshow": {
     "slide_type": "slide"
    }
   },
   "source": [
    "### Grundlegende Parameter\n",
    "\n",
    "* **Denoising Strength**: die Mengen and Bildrauschen, die hinzugefügt wird, um das Bild zu verändern. `0` fügt kein Rauschen hinzu, sodass Eingabe und Ausgabe (meistens) identisch ist. Ein Wert von `1` ersetzt das Eingabebild komplett.\n",
    "* **Resize mode**: gibt an, wie das Bild skaliert werden soll, geeignet um Bildausschnitte herauszuarbeiten\n",
    "  - **Just resize**: ignoriert das Seitenverhältnis\n",
    "  - **Crop and resize**: schneidet das Bild erst zu und skaliert dann\n",
    "  - **Resize and fill**: fügt Bildrauschen hinzu und skaliert dann"
   ]
  },
  {
   "cell_type": "markdown",
   "metadata": {
    "slideshow": {
     "slide_type": "slide"
    }
   },
   "source": [
    "### Outpainting\n",
    "\n",
    "Methode um Randbereiche zu einem Bild hinzuzufügen.\n",
    "\n",
    "#### Beispielvorgehen\n",
    "\n",
    "* Bild und Prompt nach `img2img` übertragen\n",
    "* Sampling method: `Euler a`\n",
    "* Resize Mode: `Resize and fill`\n",
    "* Script: `Outpainting mk2`\n",
    "* Sampling Steps: `80`\n",
    "* CFG Scale: `30`\n",
    "* Denoising Strength: `0.8`\n",
    "* Nach Bedarf Outpaint Direction einstellen"
   ]
  },
  {
   "cell_type": "markdown",
   "metadata": {
    "slideshow": {
     "slide_type": "slide"
    }
   },
   "source": [
    "### Inpainting\n",
    "\n",
    "Überzeichnet Bereiche eines bestehenden Bildes.\n",
    "\n",
    "#### Beispielvorgehen\n",
    "\n",
    "* Bild und Prompt nach `inpaint` kopieren\n",
    "* Bereich maskieren\n",
    "* Mask Blur: `4` (SD 1.5) bzw. `8` (SDXL)\n",
    "* Inpaint area: `Only masked`\n",
    "* Prompt mit Details des maskierten Bereichs erweitern"
   ]
  },
  {
   "cell_type": "markdown",
   "metadata": {},
   "source": []
  }
 ],
 "metadata": {
  "language_info": {
   "name": "python"
  }
 },
 "nbformat": 4,
 "nbformat_minor": 2
}
