{
 "cells": [
  {
   "cell_type": "markdown",
   "id": "dff7e2b5-eea3-41f4-8179-23502b790781",
   "metadata": {
    "slideshow": {
     "slide_type": "slide"
    }
   },
   "source": [
    "# Stable Diffusion - Setup\n",
    "\n",
    "Stable Diffusion verwendet ein sogenanntes Diffusionsmodell, um aus Text Bilder zu generieren. Das Modell wurde von der LMU München in Zusammenarbeit von Stability AI, CompVis LMU und Runway mit Unterstützung von EleutherAI und LAION entwickelt."
   ]
  },
  {
   "cell_type": "markdown",
   "metadata": {
    "slideshow": {
     "slide_type": "slide"
    }
   },
   "source": [
    "### Konfiguration\n",
    "\n",
    "Als erstes müssen ein paar Variablen gesetzt werden! Die Variable `SD_ROOT` kann angepasst werden."
   ]
  },
  {
   "cell_type": "code",
   "execution_count": null,
   "id": "1c2ea268-dd4a-4638-89c7-b99920f3e135",
   "metadata": {
    "execution": {
     "iopub.execute_input": "2023-11-23T09:46:57.305987Z",
     "iopub.status.busy": "2023-11-23T09:46:57.305305Z",
     "iopub.status.idle": "2023-11-23T09:46:57.773692Z",
     "shell.execute_reply": "2023-11-23T09:46:57.772638Z",
     "shell.execute_reply.started": "2023-11-23T09:46:57.305951Z"
    }
   },
   "outputs": [],
   "source": [
    "from pathlib import Path\n",
    "\n",
    "# Where should the webui be downloaded to?\n",
    "SD_ROOT = Path(\"../a1111\")\n",
    "\n",
    "# The rest will be set from there\n",
    "SD_MODEL_PATH = Path(SD_ROOT, \"models\", \"Stable-diffusion\")\n",
    "SD_VAE_PATH = Path(SD_ROOT, \"models\", \"VAE\")\n",
    "SD_LORA_PATH = Path(SD_ROOT, \"models\", \"Lora\")\n",
    "\n",
    "# Only required for remote hosting\n",
    "# GRADIO_USER = __user__\n",
    "# GRADIO_PASS = __password__\n",
    "# !rm -rf {SD_ROOT} && mkdir -p {SD_ROOT}"
   ]
  },
  {
   "cell_type": "markdown",
   "metadata": {
    "slideshow": {
     "slide_type": "slide"
    }
   },
   "source": [
    "### Plattformspezifische Einstellungen\n",
    "\n",
    "Da der Installationsprozess plattformabhängig ist, versucht die folgende Zelle den notwendigen `Installer` zu identifizieren und ob CUDA genutzt werden kann.\n"
   ]
  },
  {
   "cell_type": "code",
   "execution_count": null,
   "metadata": {},
   "outputs": [],
   "source": [
    "import platform\n",
    "import subprocess\n",
    "\n",
    "if platform.system() == \"Darwin\":\n",
    "    OS = \"macos\"\n",
    "elif platform.system() == \"Windows\":\n",
    "    OS = \"windows\"\n",
    "else:\n",
    "    OS = \"linux\"\n",
    "\n",
    "INSTALLER = SD_ROOT.joinpath(\"webui.bat\" if OS == \"windows\" else \"webui.sh\")\n",
    "\n",
    "try:\n",
    "    subprocess.check_output('nvidia-smi')\n",
    "    CUDA_ARGS = \"--xformers\"\n",
    "except Exception:\n",
    "    CUDA_ARGS = \"\""
   ]
  },
  {
   "cell_type": "markdown",
   "metadata": {
    "slideshow": {
     "slide_type": "slide"
    }
   },
   "source": [
    "## Automatic1111 Web UI herunterladen\n",
    "\n",
    "Es ist wieder Zeit ein Projekt zu 'klonen'!"
   ]
  },
  {
   "cell_type": "code",
   "execution_count": null,
   "id": "50f6996b-ce67-4fcf-974a-58866ad7dce0",
   "metadata": {
    "execution": {
     "iopub.execute_input": "2023-11-23T09:46:58.498992Z",
     "iopub.status.busy": "2023-11-23T09:46:58.498622Z",
     "iopub.status.idle": "2023-11-23T09:47:00.791490Z",
     "shell.execute_reply": "2023-11-23T09:47:00.789826Z",
     "shell.execute_reply.started": "2023-11-23T09:46:58.498962Z"
    }
   },
   "outputs": [],
   "source": [
    "!git clone https://github.com/AUTOMATIC1111/stable-diffusion-webui.git {SD_ROOT}"
   ]
  },
  {
   "cell_type": "markdown",
   "metadata": {
    "slideshow": {
     "slide_type": "slide"
    }
   },
   "source": [
    "#### Hat das Klonen funktioniert?\n",
    "\n",
    "Wir müssen als nächstes eine Funktion definieren, die uns nachfolgend Modelle herunterladen kann.\n",
    "Außerdem testen wir, ob das Klonen funktioniert hat."
   ]
  },
  {
   "cell_type": "code",
   "execution_count": null,
   "id": "9aa26d03-e0ad-48f9-bf54-f3c1cadb7ab2",
   "metadata": {
    "execution": {
     "iopub.execute_input": "2023-11-23T09:47:02.693071Z",
     "iopub.status.busy": "2023-11-23T09:47:02.692746Z",
     "iopub.status.idle": "2023-11-23T09:47:33.728117Z",
     "shell.execute_reply": "2023-11-23T09:47:33.727293Z",
     "shell.execute_reply.started": "2023-11-23T09:47:02.693044Z"
    }
   },
   "outputs": [],
   "source": [
    "import requests\n",
    "import shutil\n",
    "\n",
    "assert Path(SD_MODEL_PATH).exists()\n",
    "Path(SD_LORA_PATH).mkdir(parents=True, exist_ok=True)\n",
    "\n",
    "def download_file(url: str, dest: str, force: bool = False) -> None:\n",
    "    if Path(dest).exists() and not force:\n",
    "        return\n",
    "    with requests.get(url, stream=True) as r:\n",
    "        with open(dest, 'wb') as f:\n",
    "            shutil.copyfileobj(r.raw, f)\n",
    "\n",
    "# Only required for remote hosting\n",
    "# SD_PERSISTENT_MODELS = Path(\"/storage/sd/models\")\n",
    "# if Path(SD_PERSISTENT_MODELS).exists():\n",
    "#     import glob\n",
    "#     for file in glob.glob(f'{SD_PERSISTENT_MODELS}/*'):\n",
    "#         print(file)\n",
    "#         shutil.copy(file, SD_MODEL_PATH)"
   ]
  },
  {
   "cell_type": "markdown",
   "metadata": {
    "slideshow": {
     "slide_type": "slide"
    }
   },
   "source": [
    "## Wir brauchen Modelle\n",
    "\n",
    "Als nächstes benötigen wir Modelle, die wir nutzen können, um Bilder zu generieren. Diese Modelle müssen in den Ordner `<SD_ROOT>/models/Stable-diffusion` gelegt werden. Werden keine Modelle heruntergeladen, lädt A1111 automatisch das Model 1.5 von Stable Diffusion runter. Aber woher können wir Modelle beziehen?"
   ]
  },
  {
   "cell_type": "markdown",
   "metadata": {
    "slideshow": {
     "slide_type": "slide"
    }
   },
   "source": [
    "<div style=\"text-align: center; margin-top: 1rem;\">\n",
    "   <img src=\"images/huggingface.svg\" width=\"80\"><span style=\"margin-left: 1rem; font-size: 4rem; font-weight:400; vertical-align: bottom;\">Hugging Face</span>\n",
    "</div>\n",
    "\n",
    "> Hugging Face, the most popular AI tool in Data Science, has been an attention magnet for 316.6 million traffic between September 2022 and August 2023. -- writerbuddy.ai [¹](https://writerbuddy.ai/blog/ai-industry-analysis)\n",
    "\n",
    "Die wahrscheinlich aktuell größte Community mit der größten Sammlung an GAN-Modellen findet man auf [huggingface.co](https://huggingface.co). Die Seite wird vom US-amerikanischen Unternehmen [Hugging Face, Inc](https://en.wikipedia.org/wiki/Hugging_Face) betreut.\n"
   ]
  },
  {
   "cell_type": "markdown",
   "metadata": {
    "slideshow": {
     "slide_type": "slide"
    }
   },
   "source": [
    "<div style=\"text-align: center; margin-top: 1rem;\">\n",
    "   <img src=\"images/civitai.png\" width=\"300\">\n",
    "</div>\n",
    "\n",
    "> Civitai, a top image generator tool, received 177.2 million visits between September 2022 and August 2023. [...] Interestingly, the average user stayed on the site for about 23 minutes and 19 seconds, almost double the industry average. -- writerbuddy.ai [¹](https://writerbuddy.ai/blog/ai-industry-analysis)\n",
    "\n",
    "Eine besonders auf bildgenerierende Verfahren fokussierte Community ist unter [civitai.com](https://civitai.com) zu finden. Neben Modellen können Nutzende dort auch Bilder und die zugehörigen Prompts und Einstellungen teilen."
   ]
  },
  {
   "cell_type": "markdown",
   "metadata": {
    "slideshow": {
     "slide_type": "slide"
    }
   },
   "source": [
    "### Eine Auswahl an Modellen\n",
    "\n",
    "Die folgenden Slides enthalten eine paar Modellvorschläge. Diese beinhalten Stable Diffusion 1.5, SDXL und ein paar Derivate. Die besten Ergebnisse können mit SDXL bzw. Juggernaut XL erreicht werden. Diese Modelle sind jedoch deutlich komplexer als SD 1.5 und benötigen deshalb auch leistungsfähigere Rechner bzw. mehr Rechenzeit. Um die Modelle herunterzuladen, müssen die entsprechende Segmente 'entkommentiert' werden."
   ]
  },
  {
   "cell_type": "code",
   "execution_count": null,
   "metadata": {
    "slideshow": {
     "slide_type": "subslide"
    }
   },
   "outputs": [],
   "source": [
    "# SD 1.5 an a model spezialized on buildings\n",
    "\n",
    "# print(\"Downloading Stable Diffusion 1.5\")\n",
    "# download_file(\n",
    "#     url=\"https://huggingface.co/runwayml/stable-diffusion-v1-5/resolve/main/v1-5-pruned-emaonly.safetensors\",\n",
    "#     dest=SD_MODEL_PATH.joinpath(\"v1-5-pruned-emaonly.safetensors\")\n",
    "# )\n",
    "\n",
    "# print(\"Downloading Architecture Real Mix (SD 1.5)\")\n",
    "# download_file(\n",
    "#     url=\"https://civitai.com/api/download/models/111612\",\n",
    "#     dest=SD_MODEL_PATH.joinpath(\"ArchitectureRealMix.safetensors\")\n",
    "# )"
   ]
  },
  {
   "cell_type": "code",
   "execution_count": null,
   "id": "b920c4ac-bf82-4683-b365-19a6b8e727a1",
   "metadata": {
    "execution": {
     "iopub.execute_input": "2023-11-23T09:47:43.242001Z",
     "iopub.status.busy": "2023-11-23T09:47:43.241632Z",
     "iopub.status.idle": "2023-11-23T09:50:40.085582Z",
     "shell.execute_reply": "2023-11-23T09:50:40.084529Z",
     "shell.execute_reply.started": "2023-11-23T09:47:43.241963Z"
    },
    "slideshow": {
     "slide_type": "subslide"
    }
   },
   "outputs": [],
   "source": [
    "# The base SDXL architecture.\n",
    "# Even if the SDXL base is not used, the refiner and VAE should be downloaded to be used with SDXL derivates.\n",
    "\n",
    "# print(\"Downloading SDXL Base\")\n",
    "# download_file(\n",
    "#     url=\"https://huggingface.co/stabilityai/stable-diffusion-xl-base-1.0/resolve/main/sd_xl_base_1.0.safetensors?download=true\",\n",
    "#     dest=SD_MODEL_PATH.joinpath(\"sd_xl_base_1.0.safetensors\")\n",
    "# )\n",
    "\n",
    "# print(\"Downloading SDXL Refiner\")\n",
    "# download_file(\n",
    "#     url=\"https://huggingface.co/stabilityai/stable-diffusion-xl-refiner-1.0/resolve/main/sd_xl_refiner_1.0.safetensors?download=true\",\n",
    "#     dest=SD_MODEL_PATH.joinpath(\"sd_xl_refiner_1.0.safetensors\")\n",
    "# )\n",
    "\n",
    "# print(\"Downloading SDXL Base VAE\")\n",
    "# download_file(\n",
    "#     url=\"https://huggingface.co/stabilityai/sdxl-vae/resolve/main/sdxl_vae.safetensors?download=true\",\n",
    "#     dest=SD_VAE_PATH.joinpath(\"sdxl_vae.safetensors\")\n",
    "# )\n",
    "\n",
    "# print(\"Downloading Juggernaut XL (SDXL)\")\n",
    "# download_file(\n",
    "#     url=\"https://civitai.com/api/download/models/198530?type=Model&format=SafeTensor&size=full&fp=fp16\",\n",
    "#     dest=SD_MODEL_PATH.joinpath(\"JuggernautXL.safetensors\"),\n",
    "# )"
   ]
  },
  {
   "cell_type": "code",
   "execution_count": null,
   "metadata": {
    "slideshow": {
     "slide_type": "subslide"
    }
   },
   "outputs": [],
   "source": [
    "# These are two examples for \"Low Rank Adaption\" weights which can be combined with a variety of SDXL models\n",
    "\n",
    "# print(\"Downloading Amanda Sage LoRA\")\n",
    "# download_file(\n",
    "#     url=\"https://civitai.com/api/download/models/210626?type=Model&format=SafeTensor\",\n",
    "#     dest=SD_LORA_PATH.joinpath(\"AmandaSage.safetensors\")\n",
    "# )\n",
    "\n",
    "# print(\"Downloading DetailTweaker LoRA\")\n",
    "# download_file(\n",
    "#     url=\"https://civitai.com/api/download/models/135867?type=Model&format=SafeTensor\",\n",
    "#     dest=SD_LORA_PATH.joinpath(\"DetailTweakerXL.safetensors\")\n",
    "# )"
   ]
  },
  {
   "cell_type": "markdown",
   "metadata": {
    "slideshow": {
     "slide_type": "slide"
    }
   },
   "source": [
    "## Anmerkungen zu Modelformaten\n",
    "\n",
    "Modelle, VAEs, LoRAs etc. kommen in verschiedenen Formaten. Dateien mit der Endung `.ckpt`, `.pt`, `.pth` sind im üblichen Dateiformat von [PyTorch](https://pytorch.org/) gespeichert. Diese basiert auf dem Serialisierungsprotokoll 'Pickle' (`.pkl`) von Python. Pickle-Dateien können beim Laden schadhaften Python-Code ausführen. Deshalb wird empfohlen, 'SafeTensors'-Modelle mit dem Suffix `.safetensors` zu nutzen."
   ]
  },
  {
   "cell_type": "markdown",
   "metadata": {
    "slideshow": {
     "slide_type": "slide"
    }
   },
   "source": [
    "### Automatic1111 starten\n",
    "\n",
    "Sind Modelle, VAEs und LoRAs heruntergeladen, folgt der eigentliche und einzige Installationsschritt.\n",
    "Dazu muss nur folgender Code ausgeführt werden."
   ]
  },
  {
   "cell_type": "code",
   "execution_count": null,
   "id": "9f34ec26-5597-4bde-b29d-5a057c551bb2",
   "metadata": {
    "execution": {
     "iopub.execute_input": "2023-11-23T09:59:35.580016Z",
     "iopub.status.busy": "2023-11-23T09:59:35.579200Z"
    }
   },
   "outputs": [],
   "source": [
    "%env COMMANDLINE_ARGS {CUDA_ARGS}\n",
    "\n",
    "# Only required for remote hosting\n",
    "# %env COMMANDLINE_ARGS -f --xformers --share --gradio-auth {GRADIO_USER}:{GRADIO_PASS}\n",
    "\n",
    "%env TRANSFORMERS_CACHE {SD_ROOT}/.cache/hf\n",
    "%env PIP_CACHE_DIR {SD_ROOT}/.pipcache\n",
    "%env SD_ROOT {SD_ROOT}\n",
    "%env INSTALLER {INSTALLER}\n",
    "\n",
    "!cd ${SD_ROOT} && ${INSTALLER} ${COMMANDLINE_ARGS}"
   ]
  }
 ],
 "metadata": {
  "kernelspec": {
   "display_name": "Python 3 (ipykernel)",
   "language": "python",
   "name": "python3"
  },
  "language_info": {
   "codemirror_mode": {
    "name": "ipython",
    "version": 3
   },
   "file_extension": ".py",
   "mimetype": "text/x-python",
   "name": "python",
   "nbconvert_exporter": "python",
   "pygments_lexer": "ipython3",
   "version": "3.11.6"
  }
 },
 "nbformat": 4,
 "nbformat_minor": 5
}
