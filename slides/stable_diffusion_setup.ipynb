{
 "cells": [
  {
   "cell_type": "markdown",
   "id": "dff7e2b5-eea3-41f4-8179-23502b790781",
   "metadata": {},
   "source": [
    "# Stable Diffusion - Setup"
   ]
  },
  {
   "cell_type": "code",
   "execution_count": null,
   "id": "1c2ea268-dd4a-4638-89c7-b99920f3e135",
   "metadata": {
    "execution": {
     "iopub.execute_input": "2023-11-23T09:46:57.305987Z",
     "iopub.status.busy": "2023-11-23T09:46:57.305305Z",
     "iopub.status.idle": "2023-11-23T09:46:57.773692Z",
     "shell.execute_reply": "2023-11-23T09:46:57.772638Z",
     "shell.execute_reply.started": "2023-11-23T09:46:57.305951Z"
    }
   },
   "outputs": [],
   "source": [
    "from pathlib import Path\n",
    "\n",
    "# Where should the webui downloaded to?\n",
    "SD_ROOT = Path(__webui_folder__)\n",
    "\n",
    "# The rest will be set automatically\n",
    "SD_MODEL_PATH = Path(SD_ROOT, \"models\", \"Stable-diffusion\")\n",
    "SD_VAE_PATH = Path(SD_ROOT, \"models\", \"VAE\")\n",
    "SD_LORA_PATH = Path(SD_ROOT, \"models\", \"Lora\")\n",
    "SD_PERSISTENT_MODELS = Path(\"/storage/sd/models\")\n",
    "\n",
    "# This is only relevant for remote hosting\n",
    "# GRADIO_USER = __user__\n",
    "# GRADIO_PASS = __password__\n",
    "# !rm -rf {SD_ROOT} && mkdir -p {SD_ROOT}"
   ]
  },
  {
   "cell_type": "code",
   "execution_count": null,
   "id": "50f6996b-ce67-4fcf-974a-58866ad7dce0",
   "metadata": {
    "execution": {
     "iopub.execute_input": "2023-11-23T09:46:58.498992Z",
     "iopub.status.busy": "2023-11-23T09:46:58.498622Z",
     "iopub.status.idle": "2023-11-23T09:47:00.791490Z",
     "shell.execute_reply": "2023-11-23T09:47:00.789826Z",
     "shell.execute_reply.started": "2023-11-23T09:46:58.498962Z"
    }
   },
   "outputs": [],
   "source": [
    "!git clone https://github.com/AUTOMATIC1111/stable-diffusion-webui.git {SD_ROOT}"
   ]
  },
  {
   "cell_type": "code",
   "execution_count": null,
   "id": "9aa26d03-e0ad-48f9-bf54-f3c1cadb7ab2",
   "metadata": {
    "execution": {
     "iopub.execute_input": "2023-11-23T09:47:02.693071Z",
     "iopub.status.busy": "2023-11-23T09:47:02.692746Z",
     "iopub.status.idle": "2023-11-23T09:47:33.728117Z",
     "shell.execute_reply": "2023-11-23T09:47:33.727293Z",
     "shell.execute_reply.started": "2023-11-23T09:47:02.693044Z"
    }
   },
   "outputs": [],
   "source": [
    "import requests\n",
    "import shutil\n",
    "import glob\n",
    "\n",
    "assert Path(SD_MODEL_PATH).exists()\n",
    "Path(SD_LORA_PATH).mkdir(parents=True, exist_ok=True)\n",
    "\n",
    "if Path(SD_PERSISTENT_MODELS).exists():\n",
    "    for file in glob.glob(f'{SD_PERSISTENT_MODELS}/*'):\n",
    "        print(file)\n",
    "        shutil.copy(file, SD_MODEL_PATH)\n",
    "\n",
    "def download_file(url: str, dest: str, force: bool = False) -> None:\n",
    "    if Path(dest).exists() and not force:\n",
    "        return\n",
    "    with requests.get(url, stream=True) as r:\n",
    "        with open(dest, 'wb') as f:\n",
    "            shutil.copyfileobj(r.raw, f)"
   ]
  },
  {
   "cell_type": "code",
   "execution_count": null,
   "id": "b920c4ac-bf82-4683-b365-19a6b8e727a1",
   "metadata": {
    "execution": {
     "iopub.execute_input": "2023-11-23T09:47:43.242001Z",
     "iopub.status.busy": "2023-11-23T09:47:43.241632Z",
     "iopub.status.idle": "2023-11-23T09:50:40.085582Z",
     "shell.execute_reply": "2023-11-23T09:50:40.084529Z",
     "shell.execute_reply.started": "2023-11-23T09:47:43.241963Z"
    }
   },
   "outputs": [],
   "source": [
    "print(\"Downloading Stable Diffusion 1.5\")\n",
    "download_file(\n",
    "    url=\"https://huggingface.co/runwayml/stable-diffusion-v1-5/resolve/main/v1-5-pruned-emaonly.safetensors\",\n",
    "    dest=SD_MODEL_PATH.joinpath(\"v1-5-pruned-emaonly.safetensors\")\n",
    ")\n",
    "\n",
    "# print(\"Downloading Architecture Real Mix\")\n",
    "# download_file(\n",
    "#     url=\"https://civitai.com/api/download/models/111612\",\n",
    "#     dest=SD_MODEL_PATH.joinpath(\"ArchitectureRealMix.safetensors\")\n",
    "# )\n",
    "\n",
    "# print(\"Downloading Juggernaut XL\")\n",
    "# download_file(\n",
    "#     url=\"https://civitai.com/api/download/models/198530?type=Model&format=SafeTensor&size=full&fp=fp16\",\n",
    "#     dest=SD_MODEL_PATH.joinpath(\"JuggernautXL.safetensors\"),\n",
    "# )\n",
    "\n",
    "# print(\"Downloading Base Refiner\")\n",
    "# download_file(\n",
    "#     url=\"https://huggingface.co/stabilityai/stable-diffusion-xl-refiner-1.0/resolve/main/sd_xl_refiner_1.0.safetensors?download=true\",\n",
    "#     dest=SD_MODEL_PATH.joinpath(\"sd_xl_refiner_1.0.safetensors\")\n",
    "# )\n",
    "\n",
    "# print(\"Downloading Base VAE\")\n",
    "# download_file(\n",
    "#     url=\"https://huggingface.co/stabilityai/sdxl-vae/resolve/main/sdxl_vae.safetensors?download=true\",\n",
    "#     dest=SD_VAE_PATH.joinpath(\"sdxl_vae.safetensors\")\n",
    "# )\n",
    "\n",
    "# print(\"Downloading Amanda Sage Lora\")\n",
    "# download_file(\n",
    "#     url=\"https://civitai.com/api/download/models/210626?type=Model&format=SafeTensor\",\n",
    "#     dest=SD_LORA_PATH.joinpath(\"AmandaSage.safetensors\")\n",
    "# )\n",
    "\n",
    "# print(\"Downloading DetailTweaker Lora\")\n",
    "# download_file(\n",
    "#     url=\"https://civitai.com/api/download/models/135867?type=Model&format=SafeTensor\",\n",
    "#     dest=SD_LORA_PATH.joinpath(\"DetailTweakerXL.safetensors\")\n",
    "# )\n",
    "\n",
    "print(\"Done!\")"
   ]
  },
  {
   "cell_type": "code",
   "execution_count": null,
   "id": "9f34ec26-5597-4bde-b29d-5a057c551bb2",
   "metadata": {
    "execution": {
     "iopub.execute_input": "2023-11-23T09:59:35.580016Z",
     "iopub.status.busy": "2023-11-23T09:59:35.579200Z"
    }
   },
   "outputs": [],
   "source": [
    "%env COMMANDLINE_ARGS --xformers\n",
    "# %env COMMANDLINE_ARGS -f --xformers --share --gradio-auth {GRADIO_USER}:{GRADIO_PASS}\n",
    "%env TRANSFORMERS_CACHE {SD_ROOT}/.cache/hf\n",
    "%env PIP_CACHE_DIR {SD_ROOT}/.cache/pip\n",
    "%env SD_ROOT={SD_ROOT}\n",
    "\n",
    "## Windows\n",
    "\n",
    "#!cd ${SD_ROOT} && ./webui.bat ${COMMANDLINE_ARGS}\n",
    "#!mkdir -p ${PIP_CACHE_DIR}\n",
    "\n",
    "## *nix\n",
    "\n",
    "# !mkdir -p ${PIP_CACHE_DIR}\n",
    "# !cd ${SD_ROOT} && ./webui.sh ${COMMANDLINE_ARGS}"
   ]
  }
 ],
 "metadata": {
  "kernelspec": {
   "display_name": "Python 3 (ipykernel)",
   "language": "python",
   "name": "python3"
  },
  "language_info": {
   "codemirror_mode": {
    "name": "ipython",
    "version": 3
   },
   "file_extension": ".py",
   "mimetype": "text/x-python",
   "name": "python",
   "nbconvert_exporter": "python",
   "pygments_lexer": "ipython3",
   "version": "3.10.13"
  }
 },
 "nbformat": 4,
 "nbformat_minor": 5
}
